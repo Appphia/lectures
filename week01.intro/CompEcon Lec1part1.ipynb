{
 "cells": [
  {
   "cell_type": "markdown",
   "metadata": {
    "slideshow": {
     "slide_type": "slide"
    }
   },
   "source": [
    "# Course introduction. Housekeeping.\n",
    "ECON 3127/4414/8014 Computational methods in economics  \n",
    "Week 1  \n",
    "Fedor Iskhakov  \n",
    "<img src=\"../img/lecture.png\" width=\"64px\"/>\n"
   ]
  },
  {
   "cell_type": "markdown",
   "metadata": {
    "slideshow": {
     "slide_type": "slide"
    }
   },
   "source": [
    "## Part 1: Course introduction and housekeeping\n",
    "ECON 3127/4414/8014\n",
    "\n",
    "<div style=\"font-size:14pt;margin-top:20pt\">This course will teach the basics of _programming and computational skills_ for economic analysis and enable the students to take _numerical approach to familiar mathematical problems_. Students will learn to graphically represent familiar ideas such as supply and demand curves, equilibrium prices and consumer choice. They will explore how these choices and equilibria change with shifts in policy instruments, preferences and technologies. In the process they will learn to use common computational solution methods, such as root finding and optimization. Students will also learn how to obtain, manipulate and represent data, using tools such as scatterplots and histograms.\n",
    "</div>\n"
   ]
  },
  {
   "cell_type": "markdown",
   "metadata": {
    "slideshow": {
     "slide_type": "slide"
    }
   },
   "source": [
    "### What is computational economics?\n",
    "\n",
    "Use of computer to analyse (solve + simulate) complicated economic models that do not allow for analytical solution\n",
    "\n",
    "Useful because the models are becoming more realistic and thus complicated\n",
    "\n",
    "- Macroeconomics: heterogeneous agents, overlapping generations\n",
    "- Microeconomics: dynamic games\n",
    "- Structural econometrics: estimating complex models with micro-data\n",
    "- Advanced econometrics: computationally intensive methods\n"
   ]
  },
  {
   "cell_type": "markdown",
   "metadata": {
    "slideshow": {
     "slide_type": "slide"
    }
   },
   "source": [
    "### You will learn\n",
    "1. Code up a given economics model and numerically solve it\n",
    "    - basic programming skills\n",
    "    - how to better design and write code\n",
    "    - how to be more efficient in programming\n",
    "2. Implement familiar mathematical methods on a computer\n",
    "3. Study model behavior for economic analysis\n",
    "    - analyse what happens with predictions when parameters change\n",
    "4. Manipulate and visualize economic data\n",
    "    - both simulated from models and observed"
   ]
  },
  {
   "cell_type": "markdown",
   "metadata": {
    "slideshow": {
     "slide_type": "slide"
    }
   },
   "source": [
    "### Lecturer: Dr. Fedor Iskhakov\n",
    "\n",
    "Senior lecturer, RSE\n",
    "\n",
    "PhD from University of Oslo, Norway, 2009\n",
    "\n",
    "Research interests: applied econometrics, i.e. structural estimation of dynamic models\n",
    "\n",
    "Email: [fedor.iskhakov@anu.edu.au](mailto: fedor.iskhakov@anu.edu.au)\n",
    "\n",
    "Office hours: by appointment at 1018 HW Arndt building\n",
    "\n",
    "More info: [fedor.iskh.me](http://fedor.iskh.me)"
   ]
  },
  {
   "cell_type": "markdown",
   "metadata": {
    "slideshow": {
     "slide_type": "slide"
    }
   },
   "source": [
    "### Student introductions (10-15 min)\n",
    "1. Your name\n",
    "2. Your program (undergrad/honours/master/PhD) and year\n",
    "3. Macro, micro or metrics (theoretical/empirical)?\n",
    "4. Your prior programming experience\n",
    "    - Language(s)\n",
    "    - Programming purpose\n",
    "    - Did you use version control?\n",
    "5. Your expectations from this course\n",
    "    - How are you going to use the learned skills"
   ]
  },
  {
   "cell_type": "markdown",
   "metadata": {
    "slideshow": {
     "slide_type": "slide"
    }
   },
   "source": [
    "### Schedule\n",
    "\n",
    "**Lectures:** Monday 13:05 - 14:55, with 5-10 min break\n",
    "\n",
    "**Labs:** Monday 9:05 - 10:55, with 5-10 min break\n",
    "\n",
    "Each **week N** is one lecture + one lab *the following monday*, except the last week and the week before semester break"
   ]
  },
  {
   "cell_type": "markdown",
   "metadata": {
    "slideshow": {
     "slide_type": "slide"
    }
   },
   "source": [
    "### What lectures and lab tutorials contain\n",
    "\n",
    "- Material is organized by technical topics, but each time will be illustrated with various **economic problems**\n",
    "- Lectures will provide the theoretical background and some small executable examples\n",
    "- Labs will give _hands on_ experience of how the studied methods help in particular economic applications"
   ]
  },
  {
   "cell_type": "markdown",
   "metadata": {
    "slideshow": {
     "slide_type": "slide"
    }
   },
   "source": [
    "### Book(s)\n",
    "\n",
    "$\\downarrow$ **Computer science**\n",
    "\n",
    "- Introduction to Python for Econometrics, Statistics and Data Analysis \n",
    "- Lectures in Quantitative Economics (QuantEcon)\n",
    "- Dynamic Economics. Quantitative Methods and Applications\n",
    "\n",
    "$\\uparrow$ **Economics**\n",
    "\n",
    "There will be additional materials referenced for each week.  \n",
    "_See Wattle for exact references._"
   ]
  },
  {
   "cell_type": "markdown",
   "metadata": {
    "slideshow": {
     "slide_type": "slide"
    }
   },
   "source": [
    "### Assessment 1: Weekly problem sets \n",
    "\n",
    "Small exercises in the end of each lecture to give you an opportunity to try implementation of the material from the lecture. Intended to be solved individually or in groups during the week. Will be discussed in the lab that follows the lecture, and serve as building blocks in the larger applications.\n",
    "\n",
    "Additional hard excercises (with $\\star$) for ECON 4414/8014\n",
    "\n",
    "**Optional (no contribution to final grade), yet very useful training**"
   ]
  },
  {
   "cell_type": "markdown",
   "metadata": {
    "slideshow": {
     "slide_type": "slide"
    }
   },
   "source": [
    "### Assessment 2: Midterm assignment\n",
    "\n",
    "Midterm assignments are coding tasks of implementing simple economic models to be performed in groups of 2 people (+ one group of 3 if needed). The assignments will be graded for correct implementation of the economic model, but also for code style and proper use of version control tools. Several models will be offered for implementation, each accompanied with a set of tasks to perform. All models will be assigned to groups on the first come first served (FIFO) bases before any model can be assigned another time. All Individual grades within the group can be given in special cases. Part of the grade is short group presentation of the complete assignment in the following lab class.\n",
    "\n",
    "**40% of the final grade**\n"
   ]
  },
  {
   "cell_type": "markdown",
   "metadata": {
    "slideshow": {
     "slide_type": "slide"
    }
   },
   "source": [
    "### Assessment 3: Final exam\n",
    "\n",
    "Open book exam in the computer lab, _details TBA_  \n",
    "The final exam will contain several multiple choice and short answer questions and several small individual coding tasks.\n",
    "\n",
    "Additional hard excercises (with $\\star$) for ECON 4414/8014\n",
    "\n",
    "**60% of the final grade**\n"
   ]
  },
  {
   "cell_type": "markdown",
   "metadata": {
    "slideshow": {
     "slide_type": "slide"
    }
   },
   "source": [
    "### Version control with Git\n",
    "\n",
    "We will use **version control** software Git and online coders community GitHub\n",
    "\n",
    "- Using version control is essential for efficient coding work\n",
    "- Having registration at GitHub is essential for computational economist\n",
    "\n",
    "\n",
    "1. Learning Git is part of the course, will be tested in the exam/assignments\n",
    "2. Registration at GitHub is optional and not essential for passing the course, although will make the workflow a lot smoother\n",
    "\n",
    "The week 1 Lab starts with Git and GitHub\n"
   ]
  },
  {
   "cell_type": "markdown",
   "metadata": {
    "slideshow": {
     "slide_type": "slide"
    }
   },
   "source": [
    "### Communication\n",
    "\n",
    "1. Announcements on [Wattle course page](https://wattlecourses.anu.edu.au/course/view.php?id=24693)\n",
    "2. Email [fedor.iskhakov@anu.edu.au](mailto: fedor.iskhakov@anu.edu.au)\n",
    "3. Office hours by appointment, office 1018 in HW Arndt building\n"
   ]
  },
  {
   "cell_type": "markdown",
   "metadata": {
    "slideshow": {
     "slide_type": "slide"
    }
   },
   "source": [
    "# Thank you. Questions?"
   ]
  },
  {
   "cell_type": "markdown",
   "metadata": {
    "slideshow": {
     "slide_type": "slide"
    }
   },
   "source": [
    "## Further learning resources\n",
    "- Simple guide to Git http://rogerdudler.github.io/git-guide/\n"
   ]
  }
 ],
 "metadata": {
  "celltoolbar": "Slideshow",
  "kernelspec": {
   "display_name": "Python 3",
   "language": "python",
   "name": "python3"
  },
  "language_info": {
   "codemirror_mode": {
    "name": "ipython",
    "version": 3
   },
   "file_extension": ".py",
   "mimetype": "text/x-python",
   "name": "python",
   "nbconvert_exporter": "python",
   "pygments_lexer": "ipython3",
   "version": "3.6.5"
  }
 },
 "nbformat": 4,
 "nbformat_minor": 2
}
