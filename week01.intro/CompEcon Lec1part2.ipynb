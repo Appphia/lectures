{
 "cells": [
  {
   "cell_type": "markdown",
   "metadata": {
    "slideshow": {
     "slide_type": "slide"
    }
   },
   "source": [
    "# Introduction to Python. Floating point arithmetics.\n",
    "ECON 3127/4414/8014 Computational methods in economics  \n",
    "Week 1  \n",
    "Fedor Iskhakov  \n",
    "<img src=\"../img/lecture.png\" width=\"64px\"/>\n"
   ]
  },
  {
   "cell_type": "markdown",
   "metadata": {
    "slideshow": {
     "slide_type": "slide"
    }
   },
   "source": [
    "## Part 2: Introduction to Python\n",
    "\n",
    "<img src=\"img/PythonLogo.jpg\" width=\"512px\"/>\n",
    "\n",
    "- General–purpose programming language capable of performing _many different tasks_ including scientific computing\n",
    "- Open source (free!), development coordinated through the [Python Software Foundation](https://www.python.org/psf/)\n",
    "- Experienced rapid adoption in the last decade, and is now one of the most popular programming languages\n",
    "\n"
   ]
  },
  {
   "cell_type": "markdown",
   "metadata": {
    "slideshow": {
     "slide_type": "slide"
    }
   },
   "source": [
    "### Popularity of Python\n",
    "\n",
    "<img src=\"img/python_projections.png\" width=700px style=\"margin: auto\">\n",
    "\n",
    "<div style=\"font-size:10px\">Source: <a href=\"https://stackoverflow.blog/2017/09/06/incredible-growth-python/\">StackOverflow</a></div>\n"
   ]
  },
  {
   "cell_type": "markdown",
   "metadata": {
    "slideshow": {
     "slide_type": "slide"
    }
   },
   "source": [
    "### Scope of Python\n",
    "\n",
    "<img src=\"img/python_usage.png\" width=900px style=\"margin: auto\">\n",
    "\n",
    "<div style=\"font-size:10px\">Source: <a href=\"https://www.quora.com/What-are-the-places-where-Python-is-used\">Quora</a></div>\n",
    "\n"
   ]
  },
  {
   "cell_type": "markdown",
   "metadata": {
    "slideshow": {
     "slide_type": "slide"
    }
   },
   "source": [
    "### Low and high level programming languages\n",
    "\n",
    "We have to distiguish\n",
    "\n",
    "1. Low level languages (Assembler, FORTRAN, C, C++)\n",
    "    - Very fast\n",
    "    - Very verbose\n",
    "2. High level languages (Matlab, R, **Python**)\n",
    "    - Slower (although not for all tasks and circumstances)\n",
    "    - A lot more concise\n",
    "    - Versatile with (usually) many libraries\n",
    "    \n",
    "What is the best practice?    "
   ]
  },
  {
   "cell_type": "markdown",
   "metadata": {
    "slideshow": {
     "slide_type": "slide"
    }
   },
   "source": [
    "### How concise/verbose?\n",
    "\n",
    "<img src=\"img/language_verbosity.png\" width=740px style=\"margin: auto\">\n",
    "\n",
    "<div style=\"font-size:10px\">Source: <a href=\"http://blog.revolutionanalytics.com/2012/11/which-programming-language-is-the-most-concise.html\">blog.revolutionanalytics.com</a></div>\n",
    "\n"
   ]
  },
  {
   "cell_type": "markdown",
   "metadata": {
    "slideshow": {
     "slide_type": "slide"
    }
   },
   "source": [
    "### Adding two numbers in Assembler\n",
    "\n",
    "```\n",
    "AddNumbers:\n",
    "\tstd           ; go from LSB to MSB\n",
    "\tclc           ;\n",
    "\tpushf         ; save carry flag\n",
    ".top\n",
    "\tmov ax,0f0fh  ; convert from ASCII BCD to BCD\n",
    "\tand al,[si]   ; get next digit of number2 in al\n",
    "\tand ah,[di]   ; get next digit of number1 in ah\n",
    "\tpopf          ; recall carry flag\n",
    "\tadc al,ah     ; add these digits\n",
    "\taaa           ; convert to BCD\n",
    "\tpushf         ;\n",
    "\tadd al,'0'    ; convert back to ASCII BCD digit\n",
    "\tstosb         ; save it and increment both counters\n",
    "\tdec si        ;\n",
    "\tloop .top     ; keep going until we've got them all\n",
    "\tpopf          ; recall carry flag\n",
    "\tret           ;\n",
    "    \n",
    "```\n",
    "\n",
    "<div style=\"font-size:10px\">Source: <a href=\"http://assembly.happycodings.com/code1.html\">assembly.happycodings.com</a></div>"
   ]
  },
  {
   "cell_type": "markdown",
   "metadata": {
    "slideshow": {
     "slide_type": "slide"
    }
   },
   "source": [
    "### Reading from a file in Python\n",
    "\n",
    "```Python\n",
    "data_file = open(\"data.txt\")\n",
    "for line in data_file:\n",
    "    print(line.capitalize())\n",
    "data_file.close()\n",
    "```"
   ]
  },
  {
   "cell_type": "markdown",
   "metadata": {
    "slideshow": {
     "slide_type": "slide"
    }
   },
   "source": [
    "### Speed comparisons\n",
    "\n",
    "Aruoba, S. Borağan & Fernández-Villaverde, Jesús, 2015. \"A comparison of programming languages in macroeconomics,\" Journal of Economic Dynamics and Control, Vol. 58(C), pages 265-273.  \n",
    "http://econweb.umd.edu/~webspace/aruoba/research/paper24/Aruoba_FernandezVillaverde_Programming\n",
    "\n",
    "Aruoba, S. Borağan & Fernández-Villaverde, Jesús, 2015. \"A Comparison of Programming Languages in Economics: An Update\"  \n",
    "https://www.sas.upenn.edu/~jesusfv/Update_March_23_2018.pdf\n",
    "\n",
    "Jules Kouatchou, NASA. \"Basic Comparison of Python, Julia, Matlab, IDL and Java (2018 Edition)\"  \n",
    "https://modelingguru.nasa.gov/docs/DOC-2676\n"
   ]
  },
  {
   "cell_type": "markdown",
   "metadata": {
    "slideshow": {
     "slide_type": "slide"
    }
   },
   "source": [
    "### A Comparison of Programming Languages in Economics: An Update\n",
    "\n",
    "<img src=\"img/runtime1.png\" width=700px style=\"margin: auto\">\n",
    "<img src=\"img/runtime2.png\" width=730px style=\"margin: auto\">\n",
    "\n"
   ]
  },
  {
   "cell_type": "markdown",
   "metadata": {
    "slideshow": {
     "slide_type": "slide"
    }
   },
   "source": [
    "### Trade-off\n",
    "\n",
    "<img src=\"img/tradeoffs.png\" width=1100px style=\"margin: auto\">\n"
   ]
  },
  {
   "cell_type": "markdown",
   "metadata": {
    "slideshow": {
     "slide_type": "slide"
    }
   },
   "source": [
    "### Objective function\n",
    "\n",
    "Development and maintenance time $+$ (run time $\\times$ number of runs) $\\longrightarrow$ MIN\n",
    "\n",
    "**Minimizing one component only is suboptimal!**  \n",
    "(premature optimization)\n",
    "\n",
    "* High level language (Python) for overall structure and appearance\n",
    "* Low level language (C or C++) for computational bottlenecks\n",
    "* Necessary to also think about\n",
    "    - Vectorization\n",
    "    - Parallelization (scalability)"
   ]
  },
  {
   "cell_type": "markdown",
   "metadata": {
    "slideshow": {
     "slide_type": "slide"
    }
   },
   "source": [
    "### Why Python for Computational Economics?\n",
    "\n",
    "- Versatile high level programming language\n",
    "- High quality scientific libraries (NumPy, SciPy, Pandas, Matplotlib)\n",
    "- Parallelization and just-intime (JIT) compilation\n",
    "- Modern machine learning libraries (Tensorflow API, Scikit Learn)\n",
    "- Vast array of free libraries in other fields (web, networks, natural language processing, etc.)\n",
    "- Positive spillovers from popularity (Stack Overflow)"
   ]
  },
  {
   "cell_type": "markdown",
   "metadata": {
    "slideshow": {
     "slide_type": "slide"
    }
   },
   "source": [
    "## Part 3: Floating point arithmetics\n",
    "\n",
    "* Because computers only work with 0 and 1 internally, all real numbers have to be represented in _binary_ format\n",
    "* This leads to many peculiar arithmetics properties of seemingly simple mathematical expressions\n",
    "* Understanding how computers work with real numbers is essential for computational economics"
   ]
  },
  {
   "cell_type": "markdown",
   "metadata": {
    "slideshow": {
     "slide_type": "slide"
    }
   },
   "source": [
    "### Simple example"
   ]
  },
  {
   "cell_type": "code",
   "execution_count": 163,
   "metadata": {
    "slideshow": {
     "slide_type": "fragment"
    }
   },
   "outputs": [
    {
     "data": {
      "text/plain": [
       "False"
      ]
     },
     "execution_count": 163,
     "metadata": {},
     "output_type": "execute_result"
    }
   ],
   "source": [
    "a = 0.1\n",
    "b = 0.1\n",
    "c = 0.1\n",
    "a+b+c == 0.3"
   ]
  },
  {
   "cell_type": "markdown",
   "metadata": {
    "slideshow": {
     "slide_type": "fragment"
    }
   },
   "source": [
    "### So can we now trust the following calculation?"
   ]
  },
  {
   "cell_type": "code",
   "execution_count": 164,
   "metadata": {
    "slideshow": {
     "slide_type": "fragment"
    }
   },
   "outputs": [
    {
     "data": {
      "text/plain": [
       "'1491.7920028601754438568605110'"
      ]
     },
     "execution_count": 164,
     "metadata": {},
     "output_type": "execute_result"
    }
   ],
   "source": [
    "interest = 0.04\n",
    "compounding = 365\n",
    "investment = 1000\n",
    "t=10\n",
    "daily = 1 + interest/compounding\n",
    "sum = investment*(daily**(compounding*t))\n",
    "\n",
    "format(sum, '.25f')\n"
   ]
  },
  {
   "cell_type": "markdown",
   "metadata": {
    "slideshow": {
     "slide_type": "slide"
    }
   },
   "source": [
    "### Compare to exact calculation"
   ]
  },
  {
   "cell_type": "code",
   "execution_count": 167,
   "metadata": {
    "slideshow": {
     "slide_type": "fragment"
    }
   },
   "outputs": [
    {
     "data": {
      "text/plain": [
       "'14.7882694559'"
      ]
     },
     "execution_count": 167,
     "metadata": {},
     "output_type": "execute_result"
    }
   ],
   "source": [
    "from decimal import *\n",
    "getcontext().prec = 100 #set precision of decimal calculations\n",
    "#using floats\n",
    "interest1 = 0.04\n",
    "compounding = 365*24\n",
    "t=100 #years\n",
    "investment1 = 10e9 #one billion\n",
    "daily1 = 1 + interest1/compounding\n",
    "sum1 = investment1*(daily1**(compounding*t))\n",
    "#the same using precise decimal representation\n",
    "interest2 = Decimal(interest1)\n",
    "daily2 = 1 + interest2/compounding\n",
    "investment2 = Decimal(investment1)\n",
    "sum2 = investment2*(daily2**(compounding*t)) #using exact decimals\n",
    "diff=sum2-Decimal.from_float(sum1)\n",
    "format(diff, '.10f')\n",
    "\n"
   ]
  },
  {
   "cell_type": "markdown",
   "metadata": {
    "slideshow": {
     "slide_type": "slide"
    }
   },
   "source": [
    "### So, what is happening?\n",
    "- Real numbers are represented with certain precision\n",
    "- In some cases, the errors may have economic significance\n",
    "- In order to write robust code suitable for the task at hand we have to understand what we should expect and why\n",
    "\n",
    "*Numerical stability* of the code is an important property!"
   ]
  },
  {
   "cell_type": "markdown",
   "metadata": {
    "slideshow": {
     "slide_type": "slide"
    }
   },
   "source": [
    "### Number representation in decimal form\n",
    "$r$ &mdash; real number  \n",
    "$b$ &mdash; _base_ (radix)  \n",
    "$d_0,d_1,d_2,...,d_k$ &mdash; digits (from lowest to highest)\n",
    "\n",
    "$$\n",
    "r = d_k \\cdot b^k + d_{k-1} \\cdot b^{k-1} + \\dots + d_2 \\cdot b^2 + d_1 \\cdot b + d_0\n",
    "$$\n",
    "\n",
    "For example for decimals $b=10$ (0,1,..,9) we have\n",
    "\n",
    "$$\n",
    "7,631 = 7 \\cdot 1000 + 6 \\cdot 100 + 3 \\cdot 10 + 1\n",
    "$$\n",
    "\n",
    "$$\n",
    "19,048 = 1 \\cdot 10000 + 9 \\cdot 1000 + 0 \\cdot 100 + 4 \\cdot 10 + 8\n",
    "$$\n"
   ]
  },
  {
   "cell_type": "markdown",
   "metadata": {
    "slideshow": {
     "slide_type": "slide"
    }
   },
   "source": [
    "### Number representation in binary form\n",
    "Now let $b=2$, so we only have digits 0 and 1\n",
    "\n",
    "$$\n",
    "101011_{binary} = 1 \\cdot 2^5 + 0 \\cdot 2^4 + 1 \\cdot 2^3 + 0 \\cdot 2^2 + 1 \\cdot 2 + 1 = 43_{decimal}\n",
    "$$\n",
    "\n",
    "$$\n",
    "25_{decimal} = 16 + 8 + 1 = 2^4 + 2^3 + 2^0 = 11001_{binary}\n",
    "$$\n",
    "\n",
    "Other common bases are 8 and 16 (with digits $0,1,2,\\dots,9,a,b,c,d,e,f)$"
   ]
  },
  {
   "cell_type": "markdown",
   "metadata": {
    "slideshow": {
     "slide_type": "fragment"
    }
   },
   "source": [
    "$0_{binary}$ $\\rightarrow$ $1_{binary}$ $\\rightarrow$ $10_{binary}$ $\\rightarrow$ $11_{binary}$ $\\rightarrow$ ??"
   ]
  },
  {
   "cell_type": "markdown",
   "metadata": {
    "slideshow": {
     "slide_type": "fragment"
    }
   },
   "source": [
    "_Is it possible to count to 1000 using 10 fingers?_"
   ]
  },
  {
   "cell_type": "markdown",
   "metadata": {
    "slideshow": {
     "slide_type": "slide"
    }
   },
   "source": [
    "### Similar structure for fractions\n",
    "\n",
    "In base-$b$ using $k$ _fractional_ digits\n",
    "\n",
    "$$\n",
    "1.r = 1 + d_{-1} \\cdot b^{-1} + d_{-2} \\cdot b^{-2} + \\dots + d_{-k} \\cdot b^{-k}\n",
    "$$\n",
    "\n",
    "$$\n",
    "1.5627 = \\frac{15,627}{10,000} = 1 + 5 \\cdot 10^{-1} + 6 \\cdot 10^{-2} + 2 \\cdot 10^{-3} + 7 \\cdot 10^{-4}\n",
    "$$\n",
    "\n",
    "Yet, for some numbers there is no finite decimal representation\n",
    "\n",
    "$$\n",
    "\\frac{4}{3} = 1 + 3 \\cdot 10^{-1} + 3 \\cdot 10^{-2} + 3 \\cdot 10^{-3} + \\dots = 1.333\\dots\n",
    "$$"
   ]
  },
  {
   "cell_type": "markdown",
   "metadata": {
    "slideshow": {
     "slide_type": "subslide"
    }
   },
   "source": [
    "$$\n",
    "\\frac{4}{3} = 1 + \\frac{1}{3} = 1 + \\frac{10}{3} 10^{-1} = 1 + 3 \\cdot 10^{-1} + \\frac{1}{3}10^{-1}\n",
    "$$\n",
    "\n",
    "$$\n",
    "= 1.3 + \\frac{10}{3} \\cdot 10^{-2} = 1.3 + 3 \\cdot 10^{-2} + \\frac{1}{3}10^{-2}\n",
    "$$\n",
    "\n",
    "$$\n",
    "= 1.33 + \\frac{10}{3} \\cdot 10^{-3} = 1.33 + 3 \\cdot 10^{-3} + \\frac{1}{3}10^{-3} = \\dots\n",
    "$$"
   ]
  },
  {
   "cell_type": "markdown",
   "metadata": {
    "slideshow": {
     "slide_type": "slide"
    }
   },
   "source": [
    "### In binary\n",
    "$$\n",
    "1.1 = \\frac{1}{10} = 1 + \\frac{16}{10} 2^{-4} = 1.0001 + \\frac{6}{10} 2^{-4} =\n",
    "$$\n",
    "\n",
    "$$\n",
    "1.0001 + \\frac{12}{10} 2^{-5} = 1.00011 + \\frac{2}{10} 2^{-5} =\n",
    "$$\n",
    "\n",
    "$$\n",
    "1.00011 + \\frac{16}{10} 2^{-8} = 1.00011001 + \\frac{6}{10} 2^{-8} = 1.000110011...\n",
    "$$\n",
    "\n",
    "Therefore $0.1$ can not be represented in binary exactly!"
   ]
  },
  {
   "cell_type": "markdown",
   "metadata": {
    "slideshow": {
     "slide_type": "slide"
    }
   },
   "source": [
    "### Rounding error\n",
    "\n",
    "Squeezing infinitely many real numbers into a finite number of _bits_ requires an approximate representation\n",
    "\n",
    "$p$ &mdash; number of digits in the representation of real number $r$  \n",
    "$e$ &mdash; exponent between $e_{min}$ and $e_{max}$, taking up $p_e$ bits to encode\n",
    "\n",
    "$$\n",
    "r \\approx \\pm d_0. d_1 d_2 \\dots d_p \\cdot b^e\n",
    "$$\n",
    "\n",
    "The float takes the total of $1 + p + p_e$ digits\n"
   ]
  },
  {
   "cell_type": "markdown",
   "metadata": {
    "slideshow": {
     "slide_type": "slide"
    }
   },
   "source": [
    "### Bits in float point represetnation\n",
    "<img src=\"img/bit_map.gif\" width=1100px style=\"margin: auto\">"
   ]
  },
  {
   "cell_type": "markdown",
   "metadata": {
    "slideshow": {
     "slide_type": "slide"
    }
   },
   "source": [
    "### Distribution of representable real numbers\n",
    "<img src=\"img/float_map.jpg\" width=1100px style=\"margin: auto\">"
   ]
  },
  {
   "cell_type": "markdown",
   "metadata": {
    "slideshow": {
     "slide_type": "slide"
    }
   },
   "source": [
    "### The main issues to be aware of\n",
    "1. Rounding errors $\\leftrightarrow$ loss of precision when numbers are represented in binary form \n",
    "$\\Rightarrow$ can not compare floats for equality\n",
    "2. Catastrophic cancellation $\\leftrightarrow$ potential drastic loss of precision when substracting close real numbers represented by floats $\\Rightarrow$\n",
    "innocent formulas may in fact be numerically unstable\n",
    "3. Overflow $\\leftrightarrow$ obtaining a real number that is too large to be represented as float\n",
    "4. Underflow $\\leftrightarrow$ obtaining a real number that is indistinguishable from zero\n",
    "\n",
    "_Will look at these cases in the Lab next Monday_"
   ]
  },
  {
   "cell_type": "markdown",
   "metadata": {
    "slideshow": {
     "slide_type": "slide"
    }
   },
   "source": [
    "# Thank you. Questions?"
   ]
  },
  {
   "cell_type": "markdown",
   "metadata": {
    "slideshow": {
     "slide_type": "slide"
    }
   },
   "source": [
    "## Further learning resources\n",
    "- Simple guide to Git http://rogerdudler.github.io/git-guide/\n",
    "- Comparing programming languages https://modelingguru.nasa.gov/docs/DOC-2676\n",
    "- Counting on fingers https://www.youtube.com/watch?v=UixU1oRW64Q\n",
    "- Floating point arithmetics http://www.itu.dk/~sestoft/bachelor/IEEE754_article.pdf\n"
   ]
  }
 ],
 "metadata": {
  "celltoolbar": "Slideshow",
  "kernelspec": {
   "display_name": "Python 3",
   "language": "python",
   "name": "python3"
  },
  "language_info": {
   "codemirror_mode": {
    "name": "ipython",
    "version": 3
   },
   "file_extension": ".py",
   "mimetype": "text/x-python",
   "name": "python",
   "nbconvert_exporter": "python",
   "pygments_lexer": "ipython3",
   "version": "3.6.5"
  }
 },
 "nbformat": 4,
 "nbformat_minor": 2
}
