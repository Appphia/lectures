{
 "cells": [
  {
   "cell_type": "markdown",
   "metadata": {
    "slideshow": {
     "slide_type": "slide"
    }
   },
   "source": [
    "# Lab1: Git and GitHub\n",
    "ECON 3127/4414/8014 Computational methods in economics  \n",
    "Week 1  \n",
    "Fedor Iskhakov  \n",
    "<img src=\"../img/lab.png\" width=\"64px\"/>\n"
   ]
  },
  {
   "cell_type": "markdown",
   "metadata": {
    "slideshow": {
     "slide_type": "slide"
    }
   },
   "source": [
    "## Plan\n",
    "\n",
    "1. Git http://rogerdudler.github.io/git-guide/\n",
    "1. Git GUI\n",
    "    - ANU computers\n",
    "    - Personal computers\n",
    "1. GitHub https://github.com/fediskhakov\n",
    "1. GitHub classroom \n",
    "1. Jupyter Notebook\n",
    "    - ANU computers\n",
    "    - Personal computers\n"
   ]
  },
  {
   "cell_type": "markdown",
   "metadata": {
    "slideshow": {
     "slide_type": "slide"
    }
   },
   "source": [
    "### Typical single user Git workflow\n",
    "\n",
    "1. Create/Clone repository\n",
    "1. Write/edit (text) files **CODING WORK**\n",
    "1. Observe diffs\n",
    "1. Stage and commit\n",
    "1. Back to step 2\n",
    "\n",
    "\n",
    "- Occasionaly dig back in history of diffs to figure smth out\n",
    "- Checkout previous version of files\n",
    "- Branching for experimental features"
   ]
  },
  {
   "cell_type": "markdown",
   "metadata": {
    "slideshow": {
     "slide_type": "slide"
    }
   },
   "source": [
    "### Typical multiple coauthor Git workflow\n",
    "\n",
    "1. Create/Clone repository _for each co-author_\n",
    "1. Link repos by specifying remotes\n",
    "1. Fetch latest changes by others, observe diffs\n",
    "1. Merge their work into your master branch\n",
    "1. Write/edit (text) files **CODING WORK**\n",
    "1. Stage and commit\n",
    "1. Back to step 3\n",
    "\n",
    "\n",
    "- Branching for experimental features"
   ]
  },
  {
   "cell_type": "markdown",
   "metadata": {
    "slideshow": {
     "slide_type": "slide"
    }
   },
   "source": [
    "<img src=\"img/github.png\" width=\"256px\"/>\n",
    "\n",
    "1. Register user account   \n",
    "    - _Up to you if you want to use your real name_\n",
    "    - Apply for Student Pack https://help.github.com/articles/applying-for-a-student-developer-pack/\n",
    "2. Link local repository to GitHub\n",
    "3. Join ECON3127/4414/8014 classroom and fetch the test assignment  \n",
    "https://classroom.github.com/a/sAHWgOG_\n",
    "4. Clone the assignment repo\n",
    "5. Complete the assignment and commit\n"
   ]
  },
  {
   "cell_type": "markdown",
   "metadata": {
    "slideshow": {
     "slide_type": "slide"
    }
   },
   "source": [
    "### Jupyter Notebook\n",
    "\n",
    "1. Start Jupyter Notebook server\n",
    "2. Open notebook from the test assignment\n",
    "3. Explore Jupyter Notebook interface\n",
    "4. Try changing and running code\n",
    "5. Try making Markdown and Latex cell\n",
    "6. Export document as html/latex/pdf\n",
    "\n",
    "\n",
    "- ANU computer\n",
    "- Personal computer\n"
   ]
  },
  {
   "cell_type": "markdown",
   "metadata": {
    "slideshow": {
     "slide_type": "slide"
    }
   },
   "source": [
    "# Thank you. Questions?"
   ]
  },
  {
   "cell_type": "markdown",
   "metadata": {
    "slideshow": {
     "slide_type": "slide"
    }
   },
   "source": [
    "## Further learning resources\n",
    "- Further on version control and Git https://git-scm.com/doc\n",
    "- More on GitHub https://guides.github.com/\n",
    "- Tutorial in Jupyter Notebook https://medium.com/codingthesmartway-com-blog/getting-started-with-jupyter-notebook-for-python-4e7082bd5d46\n",
    "- Markdown syntax cheatsheet https://github.com/adam-p/markdown-here/wiki/Markdown-Cheatsheet\n"
   ]
  }
 ],
 "metadata": {
  "celltoolbar": "Slideshow",
  "kernelspec": {
   "display_name": "Python 3",
   "language": "python",
   "name": "python3"
  },
  "language_info": {
   "codemirror_mode": {
    "name": "ipython",
    "version": 3
   },
   "file_extension": ".py",
   "mimetype": "text/x-python",
   "name": "python",
   "nbconvert_exporter": "python",
   "pygments_lexer": "ipython3",
   "version": "3.6.5"
  }
 },
 "nbformat": 4,
 "nbformat_minor": 2
}
