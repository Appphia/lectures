{
 "cells": [
  {
   "cell_type": "markdown",
   "metadata": {
    "slideshow": {
     "slide_type": "slide"
    }
   },
   "source": [
    "# Object oriented programming\n",
    "\n",
    "ECON 3127/4414/8014 Computational methods in economics  \n",
    "Week 3 \n",
    "Fedor Iskhakov  \n",
    "<img src=\"../img/lecture.png\" width=\"64px\"/>"
   ]
  },
  {
   "cell_type": "markdown",
   "metadata": {
    "slideshow": {
     "slide_type": "slide"
    }
   },
   "source": [
    "<img src=\"../img/PythonLogo.jpg\" width=\"512px\"/>\n",
    "\n",
    "- **Ful-featured object oriented language**\n",
    "- Open source and free (https://www.python.org)\n",
    "- With special tools and approaches is fast (approaching low level languages)\n",
    "- Python 3 $>$ Python 2\n"
   ]
  },
  {
   "cell_type": "markdown",
   "metadata": {
    "slideshow": {
     "slide_type": "slide"
    }
   },
   "source": [
    "## Stiles of programming languges\n",
    "\n",
    "* Procedural programming\n",
    "    - Series of computational steps to be carried out\n",
    "    - Routines/functions for modularization of steps\n",
    "* Functional programming\n",
    "    - programming with expressions or declarations instead of statements\n",
    "* Object oriented programming\n",
    "    - classes and objects with attributes/properties and methods"
   ]
  },
  {
   "cell_type": "markdown",
   "metadata": {
    "slideshow": {
     "slide_type": "slide"
    }
   },
   "source": [
    "Python is a pragmatic mix of procedural / OO / functional styles"
   ]
  },
  {
   "cell_type": "code",
   "execution_count": null,
   "metadata": {},
   "outputs": [],
   "source": [
    "def fibonacci_procedural(n):\n",
    "    first=1\n",
    "    second=1\n",
    "    for _ in range(n):\n",
    "        print(first,end=\" \")\n",
    "        first, second = second, first + second # step"
   ]
  },
  {
   "cell_type": "code",
   "execution_count": null,
   "metadata": {},
   "outputs": [],
   "source": [
    "def fibonacci_iterator(n):\n",
    "    first=1\n",
    "    second=1\n",
    "    for _ in range(n):\n",
    "        yield first\n",
    "        first, second = second, first + second # step"
   ]
  },
  {
   "cell_type": "code",
   "execution_count": null,
   "metadata": {
    "slideshow": {
     "slide_type": "slide"
    }
   },
   "outputs": [],
   "source": [
    "def fibonacci_recursive(n):\n",
    "    if n <= 1:\n",
    "        return 1\n",
    "    else:\n",
    "#         print(\".\",end=\"\")\n",
    "        return fibonacci_recursive(n-2) + fibonacci_recursive(n-1)"
   ]
  },
  {
   "cell_type": "code",
   "execution_count": null,
   "metadata": {},
   "outputs": [],
   "source": [
    "fibonacci = (lambda n, first=1, second=1:\n",
    "    [] if n == 0 else\n",
    "    [first] + fibonacci(n - 1, second, first + second))"
   ]
  },
  {
   "cell_type": "code",
   "execution_count": null,
   "metadata": {
    "slideshow": {
     "slide_type": "slide"
    }
   },
   "outputs": [],
   "source": [
    "print(\"Procedural programming\")\n",
    "fibonacci_procedural(10)\n",
    "print(\"\\nProcedural programming with iterable\")\n",
    "for i in fibonacci_iterator(10):\n",
    "    print(i,end=\" \")\n",
    "print(\"\\nProcedural programming with recursion\")\n",
    "for n in range(10):\n",
    "    print(fibonacci_recursive(n),end=\" \")    \n",
    "print(\"\\nFunctional programming\")\n",
    "print(fibonacci(10))"
   ]
  },
  {
   "cell_type": "markdown",
   "metadata": {
    "slideshow": {
     "slide_type": "slide"
    }
   },
   "source": [
    "### Object-eriented programming (OOP)\n",
    "- Classes\n",
    "- Objects\n",
    "- Attributes/properties\n",
    "- Methods"
   ]
  },
  {
   "cell_type": "markdown",
   "metadata": {
    "slideshow": {
     "slide_type": "slide"
    }
   },
   "source": [
    "<img src=\"img/oop.png\" width=\"1000px\"/>"
   ]
  },
  {
   "cell_type": "markdown",
   "metadata": {
    "slideshow": {
     "slide_type": "slide"
    }
   },
   "source": [
    "### OOP principles\n",
    "- **Polymorphism** = same functions/interfaces for different types $\\leftrightarrow$ classes have methods with same names\n",
    "- **Encapsulation** = exposing only needed interface and hiding internal mechanism for independent refactoring\n",
    "- **Inheritance** = class hierarchies $\\leftrightarrow$ inhereted methods don't have to be re-implemented, yet can be replaced"
   ]
  },
  {
   "cell_type": "markdown",
   "metadata": {
    "slideshow": {
     "slide_type": "slide"
    }
   },
   "source": [
    "### Function to explore the class/object structure"
   ]
  },
  {
   "cell_type": "code",
   "execution_count": null,
   "metadata": {
    "scrolled": false
   },
   "outputs": [],
   "source": [
    "def obj_explore(obj,what='all'):\n",
    "    '''Lists attributes and methods of a class, arg=all,public,private,methods,properties'''\n",
    "    import sys # this function will run rarely, so import here\n",
    "    def trstr(s):\n",
    "        if isinstance(s, str):\n",
    "            return s[:30]\n",
    "        else:\n",
    "            return s\n",
    "    def spacer(s):\n",
    "        return \" \"*max(15-len(s),2)\n",
    "    hr='-'*60\n",
    "    print(obj)\n",
    "    print('%s\\nObject report on object = %r' % (hr,obj))\n",
    "    cl=type(obj)\n",
    "    print('Objec class    : %s' % cl)\n",
    "    print('Parent classes : %r' % cl.__bases__)\n",
    "    print('Occupied memory: %d bytes' % sys.getsizeof(obj))\n",
    "    if what in 'all public properties':\n",
    "        print('PUBLIC PROPERTIES')\n",
    "        for name in dir(obj):\n",
    "            attr=getattr(obj,name)\n",
    "            if not callable(attr) and name[0:2]!='__':\n",
    "                print('%s = %r %s' % (name+spacer(name),trstr(attr),type(attr)))\n",
    "    if what in 'all private properties':\n",
    "        print('PRIVATE PROPERTIES')\n",
    "        for name in dir(obj):\n",
    "            attr=getattr(obj,name)\n",
    "            if not callable(attr) and name[0:2]=='__':\n",
    "                print('%s = %r %s' % (name+spacer(name),trstr(attr),type(attr)))\n",
    "    if what in 'all public methods':\n",
    "        print('PUBLIC METHODS')\n",
    "        for name in dir(obj):\n",
    "            attr=getattr(obj,name)\n",
    "            if callable(attr) and name[0:2]!='__':\n",
    "                print('%s %s' % (name+spacer(name),type(attr)))\n",
    "    if what in 'all private methods':\n",
    "        print('PRIVATE METHODS')\n",
    "        for name in dir(obj):\n",
    "            attr=getattr(obj,name)\n",
    "            if callable(attr) and name[0:2]=='__':\n",
    "                print('%s %s' % (name+spacer(name),type(attr)))\n",
    "                "
   ]
  },
  {
   "cell_type": "code",
   "execution_count": null,
   "metadata": {
    "slideshow": {
     "slide_type": "slide"
    }
   },
   "outputs": [],
   "source": [
    "x=False # Boolean\n",
    "obj_explore(x)"
   ]
  },
  {
   "cell_type": "code",
   "execution_count": null,
   "metadata": {
    "slideshow": {
     "slide_type": "slide"
    }
   },
   "outputs": [],
   "source": [
    "x=0b1010 # Integer\n",
    "obj_explore(x)"
   ]
  },
  {
   "cell_type": "code",
   "execution_count": null,
   "metadata": {
    "slideshow": {
     "slide_type": "slide"
    }
   },
   "outputs": [],
   "source": [
    "x=4.32913 # Float\n",
    "obj_explore(x)"
   ]
  },
  {
   "cell_type": "code",
   "execution_count": null,
   "metadata": {
    "scrolled": false,
    "slideshow": {
     "slide_type": "slide"
    }
   },
   "outputs": [],
   "source": [
    "x=\"Australian Research Council\" # String\n",
    "obj_explore(x,'public methods')"
   ]
  },
  {
   "cell_type": "markdown",
   "metadata": {
    "slideshow": {
     "slide_type": "slide"
    }
   },
   "source": [
    "### Polymorphism for strings\n",
    "- $==$ (quality) $\\rightarrow$ True/False\n",
    "- $+$ (addition) $\\rightarrow$ concatenation\n",
    "- $-$ (subtraction) undefined\n",
    "- $*$ (multiplication) $\\rightarrow$ repetition (int)\n",
    "- $/$ (devision) undefined\n",
    "- $< > \\le \\ge$ (comparison ) $\\rightarrow$ lexicographical comparison based on ASCII codes"
   ]
  },
  {
   "cell_type": "code",
   "execution_count": null,
   "metadata": {
    "scrolled": true,
    "slideshow": {
     "slide_type": "slide"
    }
   },
   "outputs": [],
   "source": [
    "# obj_explore(x,'private methods')\n",
    "s1=\"Economics \"\n",
    "s2=\"Econometrics \"\n",
    "\n",
    "s1+2\n",
    "# s1+str(2)\n",
    "(s1+s2)*2\n",
    "# (s1+s2)*2 == s1*2 + s2*2"
   ]
  },
  {
   "cell_type": "code",
   "execution_count": null,
   "metadata": {
    "slideshow": {
     "slide_type": "slide"
    }
   },
   "outputs": [],
   "source": [
    "x=[4,5,'hello'] # List\n",
    "obj_explore(x,'public')"
   ]
  },
  {
   "cell_type": "code",
   "execution_count": null,
   "metadata": {
    "slideshow": {
     "slide_type": "slide"
    }
   },
   "outputs": [],
   "source": [
    "x=(4,5,'hello') # Tuple => immutable\n",
    "obj_explore(x,'public')"
   ]
  },
  {
   "cell_type": "code",
   "execution_count": null,
   "metadata": {
    "slideshow": {
     "slide_type": "slide"
    }
   },
   "outputs": [],
   "source": [
    "x={\"key\": \"value\",\"another_key\": 574} # Dictionery\n",
    "obj_explore(x)"
   ]
  },
  {
   "cell_type": "markdown",
   "metadata": {
    "slideshow": {
     "slide_type": "slide"
    }
   },
   "source": [
    "### Inheritance for booleans\n",
    "\n",
    "By-default copy of all methods and properties"
   ]
  },
  {
   "cell_type": "code",
   "execution_count": null,
   "metadata": {},
   "outputs": [],
   "source": [
    "x=True\n",
    "cl=type(x)\n",
    "print(\"Own class   : %s\" % cl) # list of parent classes\n",
    "\n",
    "print(\"Parent class: %s\" % cl.__bases__) # list of parent classes"
   ]
  },
  {
   "cell_type": "markdown",
   "metadata": {
    "slideshow": {
     "slide_type": "slide"
    }
   },
   "source": [
    "# Everything in Python is an object!\n",
    "- Variables of all types\n",
    "- Functions, both custom and inbuilt\n",
    "- Imported modules\n",
    "- Input and output (files)\n",
    "- etc."
   ]
  },
  {
   "cell_type": "markdown",
   "metadata": {
    "slideshow": {
     "slide_type": "slide"
    }
   },
   "source": [
    "### How to write classes\n",
    "1. When do I need a class/object?\n",
    "    - collection of model parameters\n",
    "    - repeatedly used complex _things_\n",
    "    - note: collection of functions is **module** = .py file with defs\n",
    "2. Syntex"
   ]
  },
  {
   "cell_type": "code",
   "execution_count": null,
   "metadata": {
    "slideshow": {
     "slide_type": "slide"
    }
   },
   "outputs": [],
   "source": [
    "class Firm:\n",
    "    \"\"\"\n",
    "    Stores the parameters of the production function f(k) = Ak^α,\n",
    "    implements the function.\n",
    "    \"\"\"\n",
    "    # Class attributes\n",
    "    __count__ = 0\n",
    "    \n",
    "    def __init__(self, α=0.5, A=2.0): # Private method\n",
    "        # Public properties\n",
    "        self.α = α\n",
    "        self.A = A\n",
    "        Firm.__count__ += 1\n",
    "\n",
    "    def __del__(self):\n",
    "        Firm.__count__ -= 1\n",
    "        \n",
    "    def f(self, k): # Public method\n",
    "        return self.A * k**self.α    \n",
    "    \n",
    "    def how_many(self): \n",
    "        return Firm.__count__"
   ]
  },
  {
   "cell_type": "code",
   "execution_count": null,
   "metadata": {
    "slideshow": {
     "slide_type": "slide"
    }
   },
   "outputs": [],
   "source": [
    "firm1 = Firm()\n",
    "# obj_explore(firm1)\n",
    "firm2 = Firm(A=3.0)\n",
    "# firm3 = Firm(A=4.0)\n",
    "firm1.how_many()\n",
    "\n",
    "# firm1.f(10)\n",
    "# firm2.f(10)\n",
    "# firm3.f(10)\n",
    "\n",
    "# firm.α\n",
    "# k = 10.0\n",
    "# firm.f(k)\n",
    "# firm.A = 10.0\n",
    "# firm.f(k)\n"
   ]
  },
  {
   "cell_type": "code",
   "execution_count": null,
   "metadata": {
    "slideshow": {
     "slide_type": "slide"
    }
   },
   "outputs": [],
   "source": [
    "class Polynomial():\n",
    "\n",
    "    def __init__(self, coeffs=[0,]):  # Initialization\n",
    "        # Public properties\n",
    "        self.degree = len(coeffs) - 1\n",
    "        self.rep = self.__str(coeffs)\n",
    "        self.coefficients = coeffs\n",
    "     \n",
    "    def __repr__(self):\n",
    "        # Screen reprentation\n",
    "        return self.rep\n",
    "\n",
    "    def __str(self, coeffs):\n",
    "        #Create list of nonzero terms\n",
    "        terms = [str(coeffs[k]) + 'x^' + str(k) \\\n",
    "                for k in range(0, self.degree + 1) \\\n",
    "                if coeffs[k] != 0]\n",
    "         \n",
    "        #If zero polynomial, return 0\n",
    "        if len(terms) == 0:\n",
    "            return str(0)\n",
    "\n",
    "        #Replace 0 and 1 powers\n",
    "        if coeffs[0] != 0:            \n",
    "            terms[0] = str(coeffs[0])\n",
    "        if len(coeffs)>1 and coeffs[1] != 0:\n",
    "            terms[1] = str(coeffs[1]) + 'x'\n",
    "\n",
    "        #Otherwise concatenate terms \n",
    "        st=''\n",
    "        for t in terms:\n",
    "            st = st + ' + ' + t\n",
    "        #Strip out leading +\n",
    "        return st.lstrip(' + ')\n",
    "     \n",
    "    def __add(self, other):\n",
    "        \"\"\"Adds two polynomials.\"\"\"\n",
    "         \n",
    "        #Max length of polynomials' coeff lists\n",
    "        d = max(self.degree, other.degree) + 1\n",
    "        #Pad coeffs lists with 0s until equal length\n",
    "        self_temp = self.coefficients + [0]*(d-self.degree-1)\n",
    "        other_temp = other.coefficients + [0]*(d-other.degree-1)\n",
    "        #Sum coeffs lists elementwise\n",
    "        new_temp = [0]*d\n",
    "        for i in range(d):\n",
    "            new_temp[i] = self_temp[i] + other_temp[i]\n",
    "        return Polynomial(new_temp)\n",
    "         \n",
    "    def __mul(self, other):\n",
    "        \"\"\"Multiplies two polynomials.\"\"\"\n",
    "         \n",
    "        n = self.degree + other.degree     #Degree of product\n",
    "        prod_coeffs = [0]*(n+1) #Initalize coefficient list of product\n",
    "        #Compute Cauchy product\n",
    "        for i in range(0, self.degree + 1):\n",
    "            for j in range(0, other.degree + 1):\n",
    "                prod_coeffs[i+j] += self.coefficients[i] * other.coefficients[j]\n",
    "         \n",
    "        return Polynomial(prod_coeffs)\n",
    "\n",
    "    def __add__(self, other):\n",
    "        \"\"\"Overloads the + operator.\"\"\"\n",
    "         \n",
    "        return self.__add(other)\n",
    "     \n",
    "    def __mul__(self, other):\n",
    "        \"\"\"Overloads the * operator.\"\"\"\n",
    "         \n",
    "        return self.__mul(other)\n",
    "     \n",
    "    def __call__(self, val):\n",
    "        \"\"\"Evaluates the polynomial at x = val.\"\"\"\n",
    "        \n",
    "        res=self.coefficients[0]\n",
    "        x=val\n",
    "        for i in range(self.degree):\n",
    "            res += x*self.coefficients[i+1]\n",
    "            x*=val\n",
    "        return res"
   ]
  },
  {
   "cell_type": "code",
   "execution_count": null,
   "metadata": {
    "slideshow": {
     "slide_type": "slide"
    }
   },
   "outputs": [],
   "source": [
    "p=Polynomial([1,2,3])\n",
    "obj_explore(p)"
   ]
  },
  {
   "cell_type": "code",
   "execution_count": null,
   "metadata": {
    "scrolled": true,
    "slideshow": {
     "slide_type": "slide"
    }
   },
   "outputs": [],
   "source": [
    "p1=Polynomial([1,2,5,0,0,4])\n",
    "print('p1(x) = %r' % p1)\n",
    "print('p1(2) = %r' % p1(5))\n",
    "p2=Polynomial([10,0,3,7])\n",
    "print('p2 = %r' % p2)\n",
    "print('p2(2) = %r' % p2(5))\n",
    "\n",
    "p3=p1+p2\n",
    "print('Sum     %r' % p3)\n",
    "p3=p1*p2\n",
    "print('Product %r' % p3)"
   ]
  }
 ],
 "metadata": {
  "celltoolbar": "Slideshow",
  "kernelspec": {
   "display_name": "Python 3",
   "language": "python",
   "name": "python3"
  },
  "language_info": {
   "codemirror_mode": {
    "name": "ipython",
    "version": 3
   },
   "file_extension": ".py",
   "mimetype": "text/x-python",
   "name": "python",
   "nbconvert_exporter": "python",
   "pygments_lexer": "ipython3",
   "version": "3.6.5"
  }
 },
 "nbformat": 4,
 "nbformat_minor": 2
}
