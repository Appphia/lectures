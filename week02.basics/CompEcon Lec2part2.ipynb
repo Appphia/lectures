{
 "cells": [
  {
   "cell_type": "markdown",
   "metadata": {
    "slideshow": {
     "slide_type": "slide"
    }
   },
   "source": [
    "# Algorithms and complexity\n",
    "\n",
    "ECON 3127/4414/8014 Computational methods in economics  \n",
    "Week 2  \n",
    "Fedor Iskhakov  \n",
    "<img src=\"../img/lecture.png\" width=\"64px\"/>\n",
    "\n",
    "&#128214; Kevin Sheppard \"Introduction to Python for Econometrics, Statistics and Data Analysis.\"\n",
    "*Chapter: 24*"
   ]
  },
  {
   "cell_type": "markdown",
   "metadata": {
    "slideshow": {
     "slide_type": "slide"
    }
   },
   "source": [
    "## Algorithms\n",
    "**Sequence of commands** for computer to run\n",
    "\n",
    "1. How much time does it take to run?\n",
    "2. How much memory does it need?\n",
    "3. What other resources may be limiting?\n",
    "\n",
    "**Smart algorithm is a lot more important that fast computer** "
   ]
  },
  {
   "cell_type": "markdown",
   "metadata": {
    "slideshow": {
     "slide_type": "slide"
    }
   },
   "source": [
    "### Computational speed and algorithm development\n",
    "\n",
    "Professor Martin Grötschel <span style=\"Font-Size:.75em\">Konrad-Zuse-Zentrum für Informationstechnik Berlin</span>\n",
    "\n",
    "> .. a benchmark production planning model solved using linear programming would have taken 82 years to solve in 1988, using the computers and the linear programming algorithms of the day.  Fifteen years later – in 2003 – this same model could be solved in roughly 1 minute, an improvement by a factor of roughly 43 million.  Of this, a factor of roughly 1,000 was due to increased processor speed, whereas a factor of roughly 43,000 was due to improvements in algorithms! "
   ]
  },
  {
   "cell_type": "markdown",
   "metadata": {
    "slideshow": {
     "slide_type": "slide"
    }
   },
   "source": [
    "### Determine if a given number if odd or even"
   ]
  },
  {
   "cell_type": "code",
   "execution_count": 198,
   "metadata": {},
   "outputs": [],
   "source": [
    "def odd(num=0):\n",
    "    \"\"\"Returns True if num is odd\"\"\"\n",
    "    return num%2!=0"
   ]
  },
  {
   "cell_type": "code",
   "execution_count": 199,
   "metadata": {},
   "outputs": [
    {
     "name": "stdout",
     "output_type": "stream",
     "text": [
      "124 ns ± 16.9 ns per loop (mean ± std. dev. of 10 runs, 100 loops each)\n"
     ]
    }
   ],
   "source": [
    "%%timeit -n100 -r10\n",
    "odd(112)"
   ]
  },
  {
   "cell_type": "code",
   "execution_count": 200,
   "metadata": {},
   "outputs": [
    {
     "name": "stdout",
     "output_type": "stream",
     "text": [
      "167 ns ± 33.8 ns per loop (mean ± std. dev. of 10 runs, 100 loops each)\n"
     ]
    }
   ],
   "source": [
    "%%timeit -n100 -r10\n",
    "odd(112000000000000000)\n"
   ]
  },
  {
   "cell_type": "markdown",
   "metadata": {
    "slideshow": {
     "slide_type": "slide"
    }
   },
   "source": [
    "### How many operations as function of input size?\n",
    "Just need to check the lowest bit!\n",
    "\n",
    "If 0 $\\Rightarrow$ even\n",
    "\n",
    "Otherwise $\\Rightarrow$ odd\n",
    "\n",
    "**Should not depend on the size of the input**"
   ]
  },
  {
   "cell_type": "markdown",
   "metadata": {
    "slideshow": {
     "slide_type": "slide"
    }
   },
   "source": [
    "### Binary search\n",
    "\n",
    "Find an element between given boundaries\n",
    "1. Think of number between 1 and 10\n",
    "2. How many guesses are needed to locate it if the only answers are \"below\" and \"above\"?\n",
    "3. What is the optimal sequece of questions?\n"
   ]
  },
  {
   "cell_type": "code",
   "execution_count": 201,
   "metadata": {
    "slideshow": {
     "slide_type": "slide"
    }
   },
   "outputs": [
    {
     "name": "stdout",
     "output_type": "stream",
     "text": [
      "Index is 6: [0, 2, 4, 6, 8, 10, 12, 14]\n"
     ]
    }
   ],
   "source": [
    "def binary_search(grid=[0,1],num=0):\n",
    "    \"\"\"Returns the index of num on the sorted grid\"\"\"\n",
    "    i1=0\n",
    "    i2=len(grid)-1\n",
    "    if num<grid[i1] or num>grid[i2] or num not in grid:\n",
    "        print(\"Wrong call to binary_search!\")\n",
    "        return none\n",
    "    if num==grid[i1]:\n",
    "        return i1\n",
    "    if num==grid[i2]:\n",
    "        return i2\n",
    "    j=0\n",
    "    while grid[j]!=num:\n",
    "        j=(i1+i2)//2\n",
    "        if grid[j]==num:\n",
    "            return j\n",
    "        elif num>grid[j]:\n",
    "            i1=j\n",
    "        else:\n",
    "            i2=j\n",
    "    return j\n",
    "grid=list(range(15)) # 0,1,..,14\n",
    "grid=grid[::2]       # 0,2,..,14\n",
    "print(\"Index is %d: %r\"%(binary_search(grid,12),grid))"
   ]
  },
  {
   "cell_type": "code",
   "execution_count": 202,
   "metadata": {
    "slideshow": {
     "slide_type": "slide"
    }
   },
   "outputs": [
    {
     "name": "stdout",
     "output_type": "stream",
     "text": [
      "1.66 µs ± 209 ns per loop (mean ± std. dev. of 10 runs, 100 loops each)\n"
     ]
    }
   ],
   "source": [
    "%%timeit -n100 -r10\n",
    "binary_search(list(range(16)),14)"
   ]
  },
  {
   "cell_type": "code",
   "execution_count": 203,
   "metadata": {},
   "outputs": [
    {
     "name": "stdout",
     "output_type": "stream",
     "text": [
      "3.46 µs ± 96.5 ns per loop (mean ± std. dev. of 10 runs, 100 loops each)\n"
     ]
    }
   ],
   "source": [
    "%%timeit -n100 -r10\n",
    "binary_search(list(range(256)),14)"
   ]
  },
  {
   "cell_type": "code",
   "execution_count": 204,
   "metadata": {},
   "outputs": [
    {
     "name": "stdout",
     "output_type": "stream",
     "text": [
      "1.07 ms ± 40.8 µs per loop (mean ± std. dev. of 10 runs, 100 loops each)\n"
     ]
    }
   ],
   "source": [
    "%%timeit -n100 -r10\n",
    "binary_search(list(range(256**2)),14)"
   ]
  },
  {
   "cell_type": "markdown",
   "metadata": {
    "slideshow": {
     "slide_type": "slide"
    }
   },
   "source": [
    "<img src=\"img/binary.png\" width=\"600px\" \\>"
   ]
  },
  {
   "cell_type": "markdown",
   "metadata": {
    "slideshow": {
     "slide_type": "slide"
    }
   },
   "source": [
    "## Classes of algorithm complexity\n",
    "\n",
    "$f(n)=\\mathcal{O}\\big(g(n)\\big) \\Leftrightarrow 0< \\lim_{n\\rightarrow\\infty}\\frac{f(n)}{g(n)} <\\infty$, where\n",
    "$n$ is the size of inputs\n",
    "\n",
    "- $\\mathcal{O}(1)$ constant time\n",
    "- $\\mathcal{O}(\\log_{2}(n))$ logarithmic time\n",
    "- $\\mathcal{O}(n)$ linear time\n",
    "- $\\mathcal{O}(n \\log_{2}(n))$ quasi-linear time\n",
    "- $\\mathcal{O}(n^{k}), k>1$ quadratic, cubic, etc. time (polynomial) $\\uparrow$ **Tractable**\n",
    "- $\\mathcal{O}(2^{n})$ exponential time $\\downarrow$ **Curse of dimensionality**\n",
    "- $\\mathcal{O}(n!)$ factorial time\n",
    "\n"
   ]
  },
  {
   "cell_type": "markdown",
   "metadata": {
    "slideshow": {
     "slide_type": "slide"
    }
   },
   "source": [
    "<img src=\"img/bigO.svg\" width=\"600px\" \\>"
   ]
  },
  {
   "cell_type": "markdown",
   "metadata": {
    "slideshow": {
     "slide_type": "slide"
    }
   },
   "source": [
    "### P vs. NP (\\$1 mln. prize by Clay Mathematics Institute)\n",
    "\n",
    "- **P** can be solved in polynomial time\n",
    "- **NP** solution can checked in polynomial time\n",
    "- **NP-Complete** as complex as any NP problem\n",
    "\n",
    "<img src=\"img/Complexity_classes.svg\" width=\"500px\"/>\n"
   ]
  },
  {
   "cell_type": "markdown",
   "metadata": {
    "slideshow": {
     "slide_type": "slide"
    }
   },
   "source": [
    "### Maximum of the unsorted set of numbers\n",
    "Compexity?"
   ]
  },
  {
   "cell_type": "code",
   "execution_count": 226,
   "metadata": {},
   "outputs": [
    {
     "name": "stdout",
     "output_type": "stream",
     "text": [
      "[14.47883769 81.0165881  12.02201326 80.12742322  4.9920519  78.78134847\n",
      " 58.03324245 86.54890826 11.88537868 76.47000781]\n",
      "max=86.548908\n"
     ]
    }
   ],
   "source": [
    "import numpy as np\n",
    "n=10\n",
    "x=np.random.uniform(low=0.0, high=100.0, size=n)\n",
    "m=float('-inf')\n",
    "for i in range(len(x)):\n",
    "    if m<x[i]:\n",
    "        m=x[i]\n",
    "print(x)        \n",
    "print(\"max=%f\"%m)\n"
   ]
  },
  {
   "cell_type": "markdown",
   "metadata": {
    "slideshow": {
     "slide_type": "slide"
    }
   },
   "source": [
    "### Net present value\n",
    "Compexity?"
   ]
  },
  {
   "cell_type": "code",
   "execution_count": 234,
   "metadata": {},
   "outputs": [
    {
     "name": "stdout",
     "output_type": "stream",
     "text": [
      "1.00000 0.95238 0.90703 0.86384 0.82270 0.78353 0.74622 0.71068 0.67684 0.64461 NPV=8.107822\n"
     ]
    }
   ],
   "source": [
    "years=10\n",
    "payment=1\n",
    "r=0.05\n",
    "npv=0.0\n",
    "for i in range(years):\n",
    "    ret=payment/(1+r)**i # talking power is O(log(n))\n",
    "    npv+=ret\n",
    "    print(\"%1.5f\"%ret,end=\" \")\n",
    "print(\"NPV=%f\"%npv)\n"
   ]
  },
  {
   "cell_type": "markdown",
   "metadata": {
    "slideshow": {
     "slide_type": "slide"
    }
   },
   "source": [
    "### Net present value (take two)\n",
    "Compexity? Improve further?"
   ]
  },
  {
   "cell_type": "code",
   "execution_count": 235,
   "metadata": {},
   "outputs": [
    {
     "name": "stdout",
     "output_type": "stream",
     "text": [
      "1.00000 0.95238 0.90703 0.86384 0.82270 0.78353 0.74622 0.71068 0.67684 0.64461 NPV=8.107822\n"
     ]
    }
   ],
   "source": [
    "years=10\n",
    "payment=1\n",
    "r=0.05\n",
    "npv=0.0\n",
    "for i in range(years):\n",
    "    npv+=payment\n",
    "    print(\"%1.5f\"%payment,end=\" \")\n",
    "    payment/=(1+r)\n",
    "print(\"NPV=%f\"%npv)\n"
   ]
  },
  {
   "cell_type": "markdown",
   "metadata": {
    "slideshow": {
     "slide_type": "slide"
    }
   },
   "source": [
    "### Devision of discrete good among given number of consumers\n",
    "**Problem** Maximize welfare $W(x_1,x_2,\\dots,x_n)$ subject to $\\sum_{i=1}^{n}x_i = A$ where $A$ is _discrete_ good that is only devisible in steps of $\\Lambda$.\n",
    "\n",
    "Let $N=A/\\Lambda \\in \\mathbb{N}$. Let $p_i \\in \\{0,1,\\dots,N\\}$ such that $\\sum_{i=1}^{n}p_i = N$.\n",
    "\n",
    "Then the problem is equivalent to maximize  $W(\\Lambda p_1,\\Lambda p_2,\\dots,\\Lambda p_n)$ subject to above.\n",
    "\n",
    "$(p_1,p_2,\\dots,p_n)$ is **composition** of number $N$ into $n$ parts.\n",
    "\n",
    "\n"
   ]
  },
  {
   "cell_type": "code",
   "execution_count": null,
   "metadata": {
    "slideshow": {
     "slide_type": "slide"
    }
   },
   "outputs": [],
   "source": [
    "from scipy.optimize import special\n",
    "n=10\n",
    "N=20\n",
    "total=\n",
    "print(\"Total number of compositions is %d\"%)"
   ]
  },
  {
   "cell_type": "markdown",
   "metadata": {
    "slideshow": {
     "slide_type": "slide"
    }
   },
   "source": [
    "### Travelling salesman problem\n",
    "- Travelling salesman has to visite all locations\n",
    "- Can travel from any location to any location\n",
    "- Travelling costs vary\n",
    "- What is the optimal route that minimizes total cost?"
   ]
  },
  {
   "cell_type": "markdown",
   "metadata": {
    "slideshow": {
     "slide_type": "slide"
    }
   },
   "source": [
    "<img src=\"img/travelling_saleman_0.png\" width=\"700px\" \\>"
   ]
  },
  {
   "cell_type": "markdown",
   "metadata": {
    "slideshow": {
     "slide_type": "slide"
    }
   },
   "source": [
    "<img src=\"img/travelling_saleman.png\" width=\"700px\" \\>"
   ]
  },
  {
   "cell_type": "markdown",
   "metadata": {
    "slideshow": {
     "slide_type": "slide"
    }
   },
   "source": [
    "### All permutations for planning of the optimal route\n",
    "\n",
    "Generate all combination of integers\n",
    "```\n",
    "1 2 3\n",
    "1 3 2\n",
    "2 1 3\n",
    "2 3 1\n",
    "3 1 2\n",
    "3 2 1\n",
    "```\n",
    "\n",
    "How many?"
   ]
  },
  {
   "cell_type": "markdown",
   "metadata": {
    "slideshow": {
     "slide_type": "slide"
    }
   },
   "source": [
    "#### Heap's algorithm: what is complexity?"
   ]
  },
  {
   "cell_type": "code",
   "execution_count": 205,
   "metadata": {},
   "outputs": [
    {
     "name": "stdout",
     "output_type": "stream",
     "text": [
      "[1, 2, 3]\n",
      "[2, 1, 3]\n",
      "[3, 1, 2]\n",
      "[1, 3, 2]\n",
      "[2, 3, 1]\n",
      "[3, 2, 1]\n"
     ]
    }
   ],
   "source": [
    "def heap_perm(n, A):\n",
    "    if n == 1: yield A\n",
    "    else:\n",
    "        for i in range(n-1):\n",
    "            for hp in heap_perm(n-1, A): yield hp\n",
    "            j = 0 if (n % 2) == 1 else i\n",
    "            A[j],A[n-1] = A[n-1],A[j]\n",
    "        for hp in heap_perm(n-1, A): yield hp\n",
    "elements=[1,2,3]\n",
    "# elements=[\"A\",\"B\",\"C\",\"D\"]\n",
    "for k in heap_perm(len(elements),elements):\n",
    "    print(k)\n"
   ]
  },
  {
   "cell_type": "markdown",
   "metadata": {
    "slideshow": {
     "slide_type": "slide"
    }
   },
   "source": [
    "## Other ways to speed things up\n",
    "- Vectorization (use NumPy)\n",
    "- Parallelization\n",
    "- Compilation to machine language (JIT)\n",
    "\n",
    "_Will try out in the Lab_"
   ]
  },
  {
   "cell_type": "markdown",
   "metadata": {
    "slideshow": {
     "slide_type": "slide"
    }
   },
   "source": [
    "### Calculating the mean\n",
    "Native Python vs NumPy"
   ]
  },
  {
   "cell_type": "code",
   "execution_count": 206,
   "metadata": {},
   "outputs": [
    {
     "name": "stdout",
     "output_type": "stream",
     "text": [
      "224 µs ± 21.4 µs per loop (mean ± std. dev. of 10 runs, 100 loops each)\n"
     ]
    }
   ],
   "source": [
    "%%timeit -n100 -r10\n",
    "\n",
    "python_list = list(range(10000))\n",
    "sum(python_list) / len(python_list)"
   ]
  },
  {
   "cell_type": "code",
   "execution_count": 207,
   "metadata": {
    "slideshow": {
     "slide_type": "fragment"
    }
   },
   "outputs": [],
   "source": [
    "import numpy as np"
   ]
  },
  {
   "cell_type": "code",
   "execution_count": 208,
   "metadata": {},
   "outputs": [
    {
     "name": "stdout",
     "output_type": "stream",
     "text": [
      "23.3 µs ± 5.49 µs per loop (mean ± std. dev. of 10 runs, 100 loops each)\n"
     ]
    }
   ],
   "source": [
    "%%timeit -n100 -r10\n",
    "numpy_array = np.arange(10000)\n",
    "numpy_array.mean()"
   ]
  },
  {
   "cell_type": "markdown",
   "metadata": {
    "slideshow": {
     "slide_type": "slide"
    }
   },
   "source": [
    "<img src=\"img/travelling_saleman_solution1.png\" width=\"600px\" \\>"
   ]
  },
  {
   "cell_type": "markdown",
   "metadata": {},
   "source": [
    "<img src=\"img/travelling_saleman_solution2.png\" width=\"600px\" \\>"
   ]
  },
  {
   "cell_type": "markdown",
   "metadata": {
    "slideshow": {
     "slide_type": "slide"
    }
   },
   "source": [
    "## Further learning resources\n",
    "- Algorithm time complexity https://en.wikipedia.org/wiki/Time_complexity\n",
    "- P versus NP https://en.wikipedia.org/wiki/P_versus_NP_problem\n",
    "- Complexity of Python operations https://www.ics.uci.edu/~pattis/ICS-33/lectures/complexitypython.txt\n"
   ]
  }
 ],
 "metadata": {
  "celltoolbar": "Slideshow",
  "kernelspec": {
   "display_name": "Python 3",
   "language": "python",
   "name": "python3"
  },
  "language_info": {
   "codemirror_mode": {
    "name": "ipython",
    "version": 3
   },
   "file_extension": ".py",
   "mimetype": "text/x-python",
   "name": "python",
   "nbconvert_exporter": "python",
   "pygments_lexer": "ipython3",
   "version": "3.6.5"
  }
 },
 "nbformat": 4,
 "nbformat_minor": 2
}
