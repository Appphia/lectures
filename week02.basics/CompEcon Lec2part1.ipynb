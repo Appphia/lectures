{
 "cells": [
  {
   "cell_type": "markdown",
   "metadata": {
    "slideshow": {
     "slide_type": "slide"
    }
   },
   "source": [
    "# Python essentials\n",
    "\n",
    "ECON 3127/4414/8014 Computational methods in economics  \n",
    "Week 2  \n",
    "Fedor Iskhakov  \n",
    "<img src=\"../img/lecture.png\" width=\"64px\"/>\n",
    "\n",
    "&#128214; Kevin Sheppard \"Introduction to Python for Econometrics, Statistics and Data Analysis.\"\n",
    "*Chapters: 3, 4, 5, 10, 11, 12, 13, 18, 22*"
   ]
  },
  {
   "cell_type": "markdown",
   "metadata": {
    "slideshow": {
     "slide_type": "slide"
    }
   },
   "source": [
    "## Plan for the lecture\n",
    "1. Essentials\n",
    "2. Variables and memory\n",
    "3. Binary operations\n",
    "4. Conditional expressions\n",
    "5. Complex variables types\n",
    "6. Flow control\n",
    "7. Functions\n",
    "9."
   ]
  },
  {
   "cell_type": "markdown",
   "metadata": {
    "slideshow": {
     "slide_type": "slide"
    }
   },
   "source": [
    "<img src=\"../img/PythonLogo.jpg\" width=\"512px\"/>\n",
    "\n",
    "- General–purpose programming language capable of performing _many different tasks_ including scientific computing\n",
    "- Open source and free (https://www.python.org)\n",
    "- High level language: relatively slow but easier to write code and develop software\n",
    "- With special tools and approaches is fast (approaching low level languages)\n",
    "- Python 3 $>$ Python 2\n",
    "\n"
   ]
  },
  {
   "cell_type": "markdown",
   "metadata": {
    "slideshow": {
     "slide_type": "slide"
    }
   },
   "source": [
    "### Python program structure\n",
    "\n",
    "File extension **.py**\n",
    "\n",
    "To execute type:\n",
    "```\n",
    "python <code.py>\n",
    "```\n",
    "\n",
    "Standard output to the screen, graphical output to specifically created windows, highly customable to allow, for example, Jupyter Notebooks"
   ]
  },
  {
   "cell_type": "markdown",
   "metadata": {
    "slideshow": {
     "slide_type": "slide"
    }
   },
   "source": [
    "### Coding standard\n",
    "\n",
    "\n",
    "<span style=\"Font-Size:128px\">PEP8</span>\n",
    "\n",
    "Python Enhancement Proposal 0008\n",
    "\n",
    "https://www.python.org/dev/peps/pep-0008/"
   ]
  },
  {
   "cell_type": "markdown",
   "metadata": {
    "slideshow": {
     "slide_type": "slide"
    }
   },
   "source": [
    "### Python Scientific Stack (Python modules)\n",
    "\n",
    "**NumPy** is a widely-used scientific computing package for implements fast array processing — vectorization\n",
    "\n",
    "**SciPy** is a collection of functions that perform common scientific operations (optimization, root finding, linear algebra, interpolation, numerical integration, etc.)\n",
    "\n",
    "**Pandas** is data manipulation package with special data types and methods\n",
    "\n",
    "**Matplotlib** is package for making figures and plots\n",
    "\n"
   ]
  },
  {
   "cell_type": "markdown",
   "metadata": {
    "slideshow": {
     "slide_type": "slide"
    }
   },
   "source": [
    "### Names and comments\n",
    "\n",
    "**Names of variables** $\\exists$ certain rules: can only contain numbers, letters (both upper and lower) and underscores (_)  \n",
    "Naming convensions: https://www.python.org/dev/peps/pep-0008/#id34\n",
    "\n",
    "**Reserved words** <span style=\"color:red\">and as assert break class continue def del elif else\n",
    "except exec finally for from global if import in is\n",
    "lambda not or pass print raise return try while with yield</span>\n",
    "\n",
    "**Comments** made with # at any location of a line"
   ]
  },
  {
   "cell_type": "code",
   "execution_count": null,
   "metadata": {},
   "outputs": [],
   "source": [
    "# This is comment"
   ]
  },
  {
   "cell_type": "markdown",
   "metadata": {
    "slideshow": {
     "slide_type": "slide"
    }
   },
   "source": [
    "## Native variable types\n",
    "\n",
    "- Boolean\n",
    "- Integer\n",
    "- Floating point numbers\n",
    "- Complex numbers\n",
    "- Strings"
   ]
  },
  {
   "cell_type": "markdown",
   "metadata": {
    "slideshow": {
     "slide_type": "slide"
    }
   },
   "source": [
    "### Boolean"
   ]
  },
  {
   "cell_type": "code",
   "execution_count": null,
   "metadata": {},
   "outputs": [],
   "source": [
    "x = False\n",
    "x"
   ]
  },
  {
   "cell_type": "code",
   "execution_count": null,
   "metadata": {},
   "outputs": [],
   "source": [
    "y = 1 < 5\n",
    "y"
   ]
  },
  {
   "cell_type": "code",
   "execution_count": null,
   "metadata": {},
   "outputs": [],
   "source": [
    "z = 1 < 5 - 5\n",
    "z"
   ]
  },
  {
   "cell_type": "markdown",
   "metadata": {
    "slideshow": {
     "slide_type": "slide"
    }
   },
   "source": [
    "### Precedence of binary operators\n",
    "\n",
    "1. Power (**)\n",
    "2. Multiple/devide\n",
    "3. Plus/minus\n",
    "4. Comparison operators (< >)\n",
    "5. Equality operators (== !=)\n",
    "6. Logical operators (and not or)\n",
    "\n",
    "http://www.tutorialspoint.com/python/operators_precedence_example.htm"
   ]
  },
  {
   "cell_type": "code",
   "execution_count": null,
   "metadata": {
    "slideshow": {
     "slide_type": "fragment"
    }
   },
   "outputs": [],
   "source": [
    "y = 5 > 4 != True\n",
    "x = 4**2 - (y == True) == 5 * 2 + 10 / 2 \n",
    "x"
   ]
  },
  {
   "cell_type": "markdown",
   "metadata": {
    "slideshow": {
     "slide_type": "slide"
    }
   },
   "source": [
    "### Memory for booleans, arithmetics with booleans"
   ]
  },
  {
   "cell_type": "code",
   "execution_count": null,
   "metadata": {},
   "outputs": [],
   "source": [
    "import sys\n",
    "x = 15>10\n",
    "print(\"x is %r\" % x)\n",
    "print(\"Type of x is %s\" % type(x))\n",
    "print(\"x takes %d bytes in memory\" % sys.getsizeof(x))\n",
    "print(bool.__bases__) #see that boolean is a subclass of integer\n",
    "\n",
    "y=x+5\n",
    "print(\"y = %r + 5 = %d\" % (x,y))\n"
   ]
  },
  {
   "cell_type": "markdown",
   "metadata": {
    "slideshow": {
     "slide_type": "slide"
    }
   },
   "source": [
    "### Integer"
   ]
  },
  {
   "cell_type": "code",
   "execution_count": null,
   "metadata": {},
   "outputs": [],
   "source": [
    "x = 1\n",
    "print(\"x is %r\" % x)\n",
    "print(\"Type of x is %s\" % type(x))\n",
    "print(\"x takes %d bytes in memory\" % sys.getsizeof(x))\n",
    "\n",
    "y = 0b11\n",
    "# y = 0b1111111111111111111111111111110\n",
    "#     1234567890123456789012345678901\n",
    "print(\"y is %r\" % y)\n",
    "print(\"Type of y is %s\" % type(y))\n",
    "print(\"y takes %d bytes in memory\" % sys.getsizeof(y))\n",
    "\n"
   ]
  },
  {
   "cell_type": "markdown",
   "metadata": {
    "slideshow": {
     "slide_type": "slide"
    }
   },
   "source": [
    "### Arithmetics with integers"
   ]
  },
  {
   "cell_type": "code",
   "execution_count": null,
   "metadata": {},
   "outputs": [],
   "source": [
    "a = 155\n",
    "b = 7\n",
    "c=a+b\n",
    "print(\"%d + %d = %r (%s)\" % (a,b,c,type(c)))\n",
    "c=a-50*b\n",
    "print(\"%d - 50*%d = %r (%s)\" % (a,b,c,type(c)))\n",
    "c=a*b\n",
    "print(\"%d * %d = %r (%s)\" % (a,b,c,type(c)))\n",
    "c=a/b\n",
    "print(\"%d / %d = %r (%s)\" % (a,b,c,type(c)))\n",
    "c=a//b\n",
    "print(\"%d // %d = %r (%s)\" % (a,b,c,type(c)))\n",
    "c=a%b\n",
    "print(\"%d %% %d = %r (%s)\" % (a,b,c,type(c)))"
   ]
  },
  {
   "cell_type": "markdown",
   "metadata": {
    "slideshow": {
     "slide_type": "slide"
    }
   },
   "source": [
    "### Float (floating point number)"
   ]
  },
  {
   "cell_type": "code",
   "execution_count": null,
   "metadata": {},
   "outputs": [],
   "source": [
    "x = 183.0\n",
    "print(\"x is %r\" % x)\n",
    "print(\"Type of x is %s\" % type(x))\n",
    "print(\"x takes %d bytes in memory\" % sys.getsizeof(x))\n",
    "\n",
    "sys.float_info"
   ]
  },
  {
   "cell_type": "markdown",
   "metadata": {
    "slideshow": {
     "slide_type": "slide"
    }
   },
   "source": [
    "### Inf, -Inf, NaN"
   ]
  },
  {
   "cell_type": "code",
   "execution_count": null,
   "metadata": {},
   "outputs": [],
   "source": [
    "x = 1.7976931e+308\n",
    "print(\"x is %r\" % x)\n",
    "print(\"Type of x is %s\" % type(x))\n",
    "print(\"x takes %d bytes in memory\" % sys.getsizeof(x))\n"
   ]
  },
  {
   "cell_type": "code",
   "execution_count": null,
   "metadata": {},
   "outputs": [],
   "source": [
    "x = np.log(0)\n",
    "print(\"x is %r\" % x)\n",
    "print(\"Type of x is %s\" % type(x))\n",
    "print(\"x takes %d bytes in memory\" % sys.getsizeof(x))\n"
   ]
  },
  {
   "cell_type": "markdown",
   "metadata": {
    "slideshow": {
     "slide_type": "slide"
    }
   },
   "source": [
    "### Complex numbers"
   ]
  },
  {
   "cell_type": "code",
   "execution_count": null,
   "metadata": {},
   "outputs": [],
   "source": [
    "x = 1j+5\n",
    "print(\"x is %r\" % x)\n",
    "print(\"Type of x is %s\" % type(x))\n",
    "print(\"x takes %d bytes in memory\" % sys.getsizeof(x))"
   ]
  },
  {
   "cell_type": "markdown",
   "metadata": {
    "slideshow": {
     "slide_type": "slide"
    }
   },
   "source": [
    "### Euler formula\n",
    "\n",
    "$$e^{i \\pi}+1 = 0$$"
   ]
  },
  {
   "cell_type": "code",
   "execution_count": null,
   "metadata": {
    "slideshow": {
     "slide_type": "slide"
    }
   },
   "outputs": [],
   "source": [
    "x=1j\n",
    "x = np.exp(x*np.pi)+1\n",
    "print(\"x is %r\" % x)\n",
    "print(\"|x| is %1.20f\" % abs(x))\n",
    "print(\"Type of x is %s\" % type(x))\n",
    "print(\"x takes %d bytes in memory\" % sys.getsizeof(x))"
   ]
  },
  {
   "cell_type": "markdown",
   "metadata": {
    "slideshow": {
     "slide_type": "slide"
    }
   },
   "source": [
    "### Strings"
   ]
  },
  {
   "cell_type": "code",
   "execution_count": null,
   "metadata": {},
   "outputs": [],
   "source": [
    "s='Hellow world'\n",
    "print(\"s is %r\" % s)\n",
    "print(\"Type of s is %s\" % type(s))\n",
    "print(\"Length of \\\"%s\\\" is %d\" %(s,len(s)))\n",
    "print(\"s takes %d bytes in memory\" % sys.getsizeof(s))    "
   ]
  },
  {
   "cell_type": "markdown",
   "metadata": {
    "slideshow": {
     "slide_type": "slide"
    }
   },
   "source": [
    "### Slicing strings"
   ]
  },
  {
   "cell_type": "code",
   "execution_count": null,
   "metadata": {},
   "outputs": [],
   "source": [
    "s='Australian National University'\n",
    "#  012345678901234567890123456789\n",
    "\n",
    "print(\"s[0:9] is %r\" % s[0:9])     # from 1st up to and excluing 9th\n",
    "print(\"s[:9] is %r\" % s[:9])       # the same\n",
    "print(\"s[11:] is %r\" % s[11:])     # from 11th till the end\n",
    "print(\"s[-10:] is %r\" % s[-10:])   # 10th last till the end\n",
    "print(\"s[-10:] is %r\" % s[::3])    # from beginning to end with step 3\n",
    "print(\"s[0:2:-1] is %r\" % s[::-1]) # from end till beginning with step -1 (reverse order)\n"
   ]
  },
  {
   "cell_type": "markdown",
   "metadata": {
    "slideshow": {
     "slide_type": "slide"
    }
   },
   "source": [
    "### Strings in the memory"
   ]
  },
  {
   "cell_type": "code",
   "execution_count": null,
   "metadata": {
    "slideshow": {
     "slide_type": "slide"
    }
   },
   "outputs": [],
   "source": [
    "import matplotlib.pyplot as plt\n",
    "s=''\n",
    "x=[]\n",
    "y=[]\n",
    "for i in range(10):\n",
    "    s=s + 'a'\n",
    "    x.append(len(s))\n",
    "    y.append(sys.getsizeof(s))\n",
    "    print(\"Memory(\\\"%s\\\", %d symbols) = %d bytes\"%(s,x[-1],y[-1]))\n",
    "plt.plot(x,y)\n",
    "plt.axis([1, 10, 0, 60])\n",
    "plt.ylabel('size in memory, bytes')\n",
    "plt.xlabel('length of string, symbols')\n",
    "plt.show()"
   ]
  },
  {
   "cell_type": "markdown",
   "metadata": {
    "slideshow": {
     "slide_type": "slide"
    }
   },
   "source": [
    "## Assignment operator"
   ]
  },
  {
   "cell_type": "code",
   "execution_count": null,
   "metadata": {
    "scrolled": true
   },
   "outputs": [],
   "source": [
    "a = 21\n",
    "b = 10\n",
    "c = 0\n",
    "\n",
    "c += a\n",
    "print (\"Line 1 - Value of c is %d\" % c)\n",
    "\n",
    "c *= a\n",
    "print (\"Line 2 - Value of c is %d\" % c)\n",
    "\n",
    "c -= a \n",
    "print (\"Line 3 - Value of c is %d\" % c) \n"
   ]
  },
  {
   "cell_type": "markdown",
   "metadata": {
    "slideshow": {
     "slide_type": "slide"
    }
   },
   "source": [
    "### Id(.) function returns unique int for a variable (reference)"
   ]
  },
  {
   "cell_type": "code",
   "execution_count": null,
   "metadata": {},
   "outputs": [],
   "source": [
    "x = 10\n",
    "print(\"Initial id(x) is %s\" % id(x))\n",
    "\n",
    "y = x\n",
    "print(\"        id(y) is %s\" % id(y))\n",
    "\n",
    "y +=x\n",
    "print(\"    Now id(y) is %s\" % id(y))\n"
   ]
  },
  {
   "cell_type": "markdown",
   "metadata": {
    "slideshow": {
     "slide_type": "slide"
    }
   },
   "source": [
    "## Complex variable types\n",
    "- **List** Collection of variables of any types, can be sliced like strings\n",
    "- **Tuple** Same as list but immutable (can not be edited)\n",
    "- **Dictionary** Pairs of keys and values\n",
    "- **Set** Unique elemenets of a collection (also has immutable counterpart)\n",
    "- **Range** Sequence of integers, usefull for loops in the code!"
   ]
  },
  {
   "cell_type": "markdown",
   "metadata": {
    "slideshow": {
     "slide_type": "slide"
    }
   },
   "source": [
    "### Lists and tuples"
   ]
  },
  {
   "cell_type": "code",
   "execution_count": null,
   "metadata": {},
   "outputs": [],
   "source": [
    "x=[True, 5, 5.2, 'string',] #last comma is ignored\n",
    "y=(True, 5, 5.2, 'string',)\n",
    "\n",
    "print(\"x is %r\" % x)\n",
    "print(\"Type of x is %s\" % type(x))\n",
    "print(\"x takes %d bytes in memory\" % sys.getsizeof(x))\n",
    "print()\n",
    "print(\"y is (%r,%r,%r,%r)\" % y)\n",
    "print(\"Type of y is %s\" % type(y))\n",
    "print(\"Y takes %d bytes in memory\" % sys.getsizeof(y))"
   ]
  },
  {
   "cell_type": "markdown",
   "metadata": {
    "slideshow": {
     "slide_type": "slide"
    }
   },
   "source": [
    "## Flow control: conditional expression\n",
    "- if\n",
    "- if .. else\n",
    "- if .. elif\n",
    "- if .. elif .. else\n",
    "\n",
    "**Remember about indent**  \n",
    "- Should be 4 spaces according to PEP8\n",
    "- Better not use Tab"
   ]
  },
  {
   "cell_type": "code",
   "execution_count": null,
   "metadata": {
    "slideshow": {
     "slide_type": "slide"
    }
   },
   "outputs": [],
   "source": [
    "x = 2\n",
    "y = 2.0\n",
    "z = [1, 2.1, 3.0, 0.0]\n",
    "\n",
    "if y==2 and z[-1] >= 0.0:\n",
    "    print(\"Condition 1\")\n",
    "elif y<2:\n",
    "    print(\"Condition 2\")\n",
    "else:\n",
    "    print(\"Condition 3\")"
   ]
  },
  {
   "cell_type": "code",
   "execution_count": null,
   "metadata": {
    "slideshow": {
     "slide_type": "slide"
    }
   },
   "outputs": [],
   "source": [
    "x = True\n",
    "y = False\n",
    "\n",
    "if x and y:\n",
    "    print(\"Condition 1\")\n",
    "elif x and not y:\n",
    "    print(\"Condition 2\")\n",
    "elif not x and y:\n",
    "    print(\"Condition 3\")\n",
    "elif not x and not y:\n",
    "    print(\"Condition 4\")\n",
    "else:\n",
    "    print(\"Condition 5\")\n"
   ]
  },
  {
   "cell_type": "markdown",
   "metadata": {
    "slideshow": {
     "slide_type": "slide"
    }
   },
   "source": [
    "### Pass statement\n",
    "Do nothing, but have correct indent"
   ]
  },
  {
   "cell_type": "code",
   "execution_count": null,
   "metadata": {
    "slideshow": {
     "slide_type": "slide"
    }
   },
   "outputs": [],
   "source": [
    "if True:\n",
    "    pass\n",
    "else:\n",
    "    print(\"check\")\n",
    "print(\"done\")"
   ]
  },
  {
   "cell_type": "markdown",
   "metadata": {
    "slideshow": {
     "slide_type": "slide"
    }
   },
   "source": [
    "## Flow control: loops\n",
    "- for\n",
    "- while\n",
    "- break\n",
    "- continue\n",
    "- for .. else, while .. else\n",
    "\n",
    "**Remember about indent**  \n",
    "- Should be 4 spaces according to PEP8\n",
    "- Better not use Tab"
   ]
  },
  {
   "cell_type": "code",
   "execution_count": null,
   "metadata": {
    "slideshow": {
     "slide_type": "slide"
    }
   },
   "outputs": [],
   "source": [
    "for i in [0,1,2,4,5]:\n",
    "    print(\"A iteration %d\" % i)\n",
    "print()\n",
    "\n",
    "for i in range(5):\n",
    "    print(\"B iteration %d\" % i)\n",
    "    "
   ]
  },
  {
   "cell_type": "markdown",
   "metadata": {
    "slideshow": {
     "slide_type": "slide"
    }
   },
   "source": [
    "### List comprehensions"
   ]
  },
  {
   "cell_type": "code",
   "execution_count": null,
   "metadata": {
    "scrolled": true,
    "slideshow": {
     "slide_type": "-"
    }
   },
   "outputs": [],
   "source": [
    "x = []\n",
    "for i in range(15):\n",
    "    if i%3==0:\n",
    "        x.append(\"item %d\"%i)\n",
    "x    "
   ]
  },
  {
   "cell_type": "code",
   "execution_count": null,
   "metadata": {
    "scrolled": true,
    "slideshow": {
     "slide_type": "fragment"
    }
   },
   "outputs": [],
   "source": [
    "x = [\"item %d\"%i for i in range(15) if i%3==0]\n",
    "x    "
   ]
  },
  {
   "cell_type": "markdown",
   "metadata": {
    "slideshow": {
     "slide_type": "slide"
    }
   },
   "source": [
    "### Multiple indexes"
   ]
  },
  {
   "cell_type": "code",
   "execution_count": null,
   "metadata": {
    "scrolled": false,
    "slideshow": {
     "slide_type": "-"
    }
   },
   "outputs": [],
   "source": [
    "for i,j in zip(range(4),[\"a\",\"b\",\"c\",\"d\"]):\n",
    "    print(\"i=%d j=%s\"%(i,j))"
   ]
  },
  {
   "cell_type": "code",
   "execution_count": null,
   "metadata": {
    "scrolled": false,
    "slideshow": {
     "slide_type": "fragment"
    }
   },
   "outputs": [],
   "source": [
    "p= [x**y for x in  (2,3,5) for y in range(5)] #three power series\n",
    "p"
   ]
  },
  {
   "cell_type": "markdown",
   "metadata": {
    "slideshow": {
     "slide_type": "slide"
    }
   },
   "source": [
    "### For .. else"
   ]
  },
  {
   "cell_type": "code",
   "execution_count": null,
   "metadata": {
    "scrolled": true,
    "slideshow": {
     "slide_type": "-"
    }
   },
   "outputs": [],
   "source": [
    "k=0\n",
    "for i in range(100):\n",
    "    if k>20:\n",
    "        break\n",
    "    if i%5==0:\n",
    "        k+=1\n",
    "else:\n",
    "    print(\"i went all the way up to %d\"%i) #only runs if loop completed\n",
    "print(\"loop complete with k=%d i=%d\"%(k,i))\n"
   ]
  },
  {
   "cell_type": "markdown",
   "metadata": {
    "slideshow": {
     "slide_type": "slide"
    }
   },
   "source": [
    "### While .. break .. continue\n",
    "Sieve of Eratosthenes"
   ]
  },
  {
   "cell_type": "code",
   "execution_count": null,
   "metadata": {
    "slideshow": {
     "slide_type": "-"
    }
   },
   "outputs": [],
   "source": [
    "upper=23\n",
    "primes = list(range(1,upper+1)) # all numbers between 1 and upper\n",
    "devisor=1 # initial devisor\n",
    "while True:\n",
    "    devisor+=1 # next devisor\n",
    "    if devisor>upper: # checked all devisors\n",
    "        break\n",
    "    if not devisor in primes:\n",
    "        continue # skip devisor which is not itself prime\n",
    "    i=0\n",
    "    while i<len(primes):\n",
    "        if primes[i]!=devisor and primes[i]%devisor==0:\n",
    "            primes.remove(primes[i]) # remove, next is with the same index\n",
    "        else:\n",
    "            i+=1 # skip to go to next\n",
    "\n",
    "print(\"Primes up to %d are:\"%upper)\n",
    "for x in primes:\n",
    "    print(\"%d\"%x,end=\" \")"
   ]
  },
  {
   "cell_type": "markdown",
   "metadata": {
    "slideshow": {
     "slide_type": "slide"
    }
   },
   "source": [
    "## User defined functions\n",
    "- particular function in the code\n",
    "- inputs and outputs\n",
    "- can occur in the same file as the main program\n",
    "- doclines "
   ]
  },
  {
   "cell_type": "markdown",
   "metadata": {
    "slideshow": {
     "slide_type": "slide"
    }
   },
   "source": [
    "### Defining a custom function"
   ]
  },
  {
   "cell_type": "code",
   "execution_count": null,
   "metadata": {
    "slideshow": {
     "slide_type": "-"
    }
   },
   "outputs": [],
   "source": [
    "def my_function():\n",
    "    \"\"\"This is docline for functions/modules\n",
    "    \n",
    "       This is test function\n",
    "    \"\"\"\n",
    "    return 0.0\n",
    "\n",
    "# call from the main program\n",
    "x=my_function()\n",
    "x\n"
   ]
  },
  {
   "cell_type": "markdown",
   "metadata": {
    "slideshow": {
     "slide_type": "slide"
    }
   },
   "source": [
    "### Input arguments"
   ]
  },
  {
   "cell_type": "code",
   "execution_count": null,
   "metadata": {},
   "outputs": [],
   "source": [
    "def my_function(a,b,c):\n",
    "    \"\"\"Build a list from three input arguments\"\"\"\n",
    "    return [a,b,c]\n",
    "\n",
    "# call from the main program\n",
    "x=my_function(0,0,\"test\")\n",
    "print(x)\n",
    "y=my_function(a=\"one\",b=\"two\",c=3)\n",
    "print(y)\n"
   ]
  },
  {
   "cell_type": "markdown",
   "metadata": {
    "slideshow": {
     "slide_type": "slide"
    }
   },
   "source": [
    "### Variable scope"
   ]
  },
  {
   "cell_type": "code",
   "execution_count": null,
   "metadata": {},
   "outputs": [],
   "source": [
    "def my_function(a,b):\n",
    "    \n",
    "    def my_nested_function(c,d):\n",
    "#         print(\"my_nested_function variables: \",end=\"\")\n",
    "#         for symbol, value in locals().items():\n",
    "#             print (\"%s=%r \"%(symbol,value),end=\"\")\n",
    "#         print()\n",
    "        return c+d\n",
    "    \n",
    "    x=a*b*my_nested_function(a,b)\n",
    "#     print(\"d=%r\"%d)\n",
    "    return x\n",
    "\n",
    "# call from the main program\n",
    "x=10\n",
    "y=2\n",
    "print(my_function(x,y))\n"
   ]
  },
  {
   "cell_type": "markdown",
   "metadata": {
    "slideshow": {
     "slide_type": "slide"
    }
   },
   "source": [
    "### Lambda functions (inline functions)"
   ]
  },
  {
   "cell_type": "code",
   "execution_count": null,
   "metadata": {},
   "outputs": [],
   "source": [
    "def f(x):\n",
    "    return x**3\n",
    "\n",
    "y = lambda x: x**3\n",
    "\n",
    "print(\"f(5)=%f\"%f(5))\n",
    "print(\"y(3)=%f\"%y(3))"
   ]
  },
  {
   "cell_type": "markdown",
   "metadata": {
    "slideshow": {
     "slide_type": "slide"
    }
   },
   "source": [
    "### Iterable"
   ]
  },
  {
   "cell_type": "code",
   "execution_count": 744,
   "metadata": {},
   "outputs": [
    {
     "name": "stdout",
     "output_type": "stream",
     "text": [
      "call with n=10\n",
      "i=0\n",
      "0\n",
      "i=1\n",
      "1\n",
      "i=2\n",
      "2\n",
      "i=3\n",
      "3\n",
      "i=4\n",
      "4\n",
      "i=5\n",
      "5\n",
      "i=6\n",
      "6\n",
      "i=7\n",
      "7\n",
      "i=8\n",
      "8\n",
      "i=9\n",
      "9\n"
     ]
    }
   ],
   "source": [
    "def iterable(n):\n",
    "    print(\"call with n=%d\"%n)\n",
    "    for i in range(10):\n",
    "        print(\"i=%d\"%i)\n",
    "        yield i\n",
    "#call\n",
    "for k in iterable(10):\n",
    "    print(k)\n"
   ]
  },
  {
   "cell_type": "markdown",
   "metadata": {
    "slideshow": {
     "slide_type": "slide"
    }
   },
   "source": [
    "### Memory usage function"
   ]
  },
  {
   "cell_type": "code",
   "execution_count": null,
   "metadata": {
    "slideshow": {
     "slide_type": "-"
    }
   },
   "outputs": [],
   "source": [
    "def my_plot(d):\n",
    "    \"\"\"Makes a nice plot\"\"\"\n",
    "    import matplotlib.pyplot as plt\n",
    "    plt.plot(d[\"x\"],d[\"y\"])\n",
    "    plt.axis([min(d[\"x\"]),max(d[\"x\"]),0,max(d[\"y\"])+1])\n",
    "    plt.ylabel('size in memory, bytes')\n",
    "    plt.xlabel('steps of variable update')\n",
    "    plt.show()"
   ]
  },
  {
   "cell_type": "code",
   "execution_count": null,
   "metadata": {
    "slideshow": {
     "slide_type": "slide"
    }
   },
   "outputs": [],
   "source": [
    "def memory_usage(var,grow,steps=10):\n",
    "    \"\"\"Returns data on memory usage when var is grown using supplied function for given number of steps\"\"\"\n",
    "    d={\"x\":[],\"y\":[],\"v\":[]} # dictionary for x, y data, and values\n",
    "    for i in range(steps):\n",
    "        var=grow(var) # next value\n",
    "        d[\"v\"].append(var)\n",
    "        d[\"x\"].append(i+1)\n",
    "        d[\"y\"].append(sys.getsizeof(var))\n",
    "    return d\n",
    "d=memory_usage(var='*',grow=lambda x:x*2,steps=10)\n",
    "# d=memory_usage(var=1,grow=lambda x:x*2,steps=200)\n",
    "# d=memory_usage(var=1e249,grow=lambda x:x*2,steps=200)\n",
    "# print(\"Last values: %r\"%d[\"v\"][-5:-1])\n",
    "my_plot(d)"
   ]
  },
  {
   "cell_type": "markdown",
   "metadata": {
    "slideshow": {
     "slide_type": "slide"
    }
   },
   "source": [
    "### Random walk\n",
    "**Problem**\n",
    "Generate 500 draws $X_i$ from the standard normal distribution and plot their cumulative sum $S_t = \\sum_{i=0}^t X_i$ against $t$"
   ]
  },
  {
   "cell_type": "code",
   "execution_count": null,
   "metadata": {},
   "outputs": [],
   "source": [
    "import numpy as np\n",
    "import matplotlib.pyplot as plt\n",
    "\n",
    "S = 0.0\n",
    "S_values = []\n",
    "for t in range(500):\n",
    "    S += np.random.randn()\n",
    "    S_values.append(S)\n",
    "    \n",
    "plt.plot(S_values, label=\"cumulative sum\")\n",
    "plt.legend()\n",
    "plt.show()"
   ]
  },
  {
   "cell_type": "markdown",
   "metadata": {
    "slideshow": {
     "slide_type": "-"
    }
   },
   "source": [
    "More concise implementation using NumPy"
   ]
  },
  {
   "cell_type": "code",
   "execution_count": null,
   "metadata": {
    "slideshow": {
     "slide_type": "-"
    }
   },
   "outputs": [],
   "source": [
    "plt.plot(np.cumsum(np.random.randn(500)))\n",
    "plt.show()\n"
   ]
  },
  {
   "cell_type": "markdown",
   "metadata": {
    "slideshow": {
     "slide_type": "slide"
    }
   },
   "source": [
    "## Further learning resources\n",
    "- Python book: Kevin Sheppard \"Introduction to Python for Econometrics, Statistics and Data Analysis.\" 3rd Edition University of Oxford Thursday 1st February, 2018 (see Wallle).\n",
    "- Euler formula https://www.youtube.com/watch?v=F_0yfvm0UoU\n",
    "- Euler formula https://www.youtube.com/watch?v=-dhHrg-KbJ0"
   ]
  }
 ],
 "metadata": {
  "celltoolbar": "Slideshow",
  "kernelspec": {
   "display_name": "Python 3",
   "language": "python",
   "name": "python3"
  },
  "language_info": {
   "codemirror_mode": {
    "name": "ipython",
    "version": 3
   },
   "file_extension": ".py",
   "mimetype": "text/x-python",
   "name": "python",
   "nbconvert_exporter": "python",
   "pygments_lexer": "ipython3",
   "version": "3.6.5"
  }
 },
 "nbformat": 4,
 "nbformat_minor": 2
}
